{
 "cells": [
  {
   "attachments": {},
   "cell_type": "markdown",
   "metadata": {},
   "source": [
    "### testing util fns"
   ]
  },
  {
   "cell_type": "code",
   "execution_count": 48,
   "metadata": {},
   "outputs": [],
   "source": [
    "import numpy as np\n",
    "import matplotlib.pyplot as plt\n",
    "import csv"
   ]
  },
  {
   "cell_type": "code",
   "execution_count": 83,
   "metadata": {},
   "outputs": [],
   "source": [
    "def parse(filepath: str):\n",
    "    '''\n",
    "    Will use csv header to determine if it is MNIST train or test set\n",
    "\n",
    "    args:\n",
    "        filepath: path (string) pointing to location of csv file\n",
    "    returns:\n",
    "        X: numpy matrix of size (examples, attributes)\n",
    "        y: numpy matrix\n",
    "    '''\n",
    "    with open(filepath, newline='\\n') as file:\n",
    "        project1reader = csv.reader(file, delimiter=',')\n",
    "        num_rows = 0\n",
    "        num_cols = 0\n",
    "        training = True\n",
    "        for i, row in enumerate(project1reader):\n",
    "            if i == 0:\n",
    "                if row[0] != 'label':\n",
    "                    training = False\n",
    "                    num_cols = len(row)\n",
    "                else:\n",
    "                    num_cols = len(row) -1\n",
    "            else:\n",
    "                num_rows = i\n",
    "        print('Importing data...')\n",
    "        print('Size of dataset: {} examples with {} attributes.\\nTraining set: {}'.format(num_rows, num_cols, training))\n",
    "        X = np.zeros((num_rows, num_cols))\n",
    "        y = np.zeros((num_rows,))\n",
    "        for i, row in enumerate(project1reader):\n",
    "            if i != 0:\n",
    "                if training:\n",
    "                    X[i-1] = row[1:]\n",
    "                    y[i-1] = row[0]\n",
    "                else:\n",
    "                    X[i-1] = [eval(j) for j in row]\n",
    "        if training:\n",
    "            return X, y\n",
    "        else:\n",
    "            return X"
   ]
  },
  {
   "cell_type": "code",
   "execution_count": 84,
   "metadata": {},
   "outputs": [
    {
     "name": "stdout",
     "output_type": "stream",
     "text": [
      "Importing data...\n",
      "Size of dataset: 21000 examples with 784 attributes.\n",
      "Training set: True\n"
     ]
    }
   ],
   "source": [
    "X_train, y_train = parse('../data/training.csv')"
   ]
  },
  {
   "cell_type": "code",
   "execution_count": 85,
   "metadata": {},
   "outputs": [
    {
     "name": "stdout",
     "output_type": "stream",
     "text": [
      "Importing data...\n",
      "Size of dataset: 21000 examples with 784 attributes.\n",
      "Training set: False\n"
     ]
    }
   ],
   "source": [
    "X_test = parse('../data/testing.csv')"
   ]
  },
  {
   "cell_type": "code",
   "execution_count": 86,
   "metadata": {},
   "outputs": [
    {
     "data": {
      "text/plain": [
       "(784,)"
      ]
     },
     "execution_count": 86,
     "metadata": {},
     "output_type": "execute_result"
    }
   ],
   "source": [
    "np.shape(X_test[0])"
   ]
  },
  {
   "cell_type": "code",
   "execution_count": 87,
   "metadata": {},
   "outputs": [
    {
     "data": {
      "text/plain": [
       "0.0"
      ]
     },
     "execution_count": 87,
     "metadata": {},
     "output_type": "execute_result"
    }
   ],
   "source": [
    "np.sum(X_test)"
   ]
  },
  {
   "cell_type": "code",
   "execution_count": 88,
   "metadata": {},
   "outputs": [],
   "source": [
    "def normalize():\n",
    "    pass"
   ]
  },
  {
   "cell_type": "code",
   "execution_count": 89,
   "metadata": {},
   "outputs": [],
   "source": [
    "def print_digit():\n",
    "    pass"
   ]
  }
 ],
 "metadata": {
  "kernelspec": {
   "display_name": "tf",
   "language": "python",
   "name": "python3"
  },
  "language_info": {
   "codemirror_mode": {
    "name": "ipython",
    "version": 3
   },
   "file_extension": ".py",
   "mimetype": "text/x-python",
   "name": "python",
   "nbconvert_exporter": "python",
   "pygments_lexer": "ipython3",
   "version": "3.7.13"
  },
  "orig_nbformat": 4,
  "vscode": {
   "interpreter": {
    "hash": "dc1b947dce198ff7f2d2cb152b2cbb61132fce4429fa808fd5b89ac4d7df39fa"
   }
  }
 },
 "nbformat": 4,
 "nbformat_minor": 2
}
