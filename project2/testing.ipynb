{
 "cells": [
  {
   "cell_type": "code",
   "execution_count": 1,
   "metadata": {},
   "outputs": [],
   "source": [
    "import numpy as np\n",
    "from typing import Tuple\n",
    "import matplotlib.pyplot as plt\n",
    "import re\n",
    "# from scipy.spatial import distance_matrix"
   ]
  },
  {
   "cell_type": "code",
   "execution_count": 9,
   "metadata": {},
   "outputs": [],
   "source": [
    "purples = [\"#0a0612\", \"#392249\", \"#482980\", \"#673ab7\",\n",
    "           \"#7a52aa\", \"#9779bd\", \"#b59fd0\", \"#d3c5e3\"]"
   ]
  },
  {
   "cell_type": "code",
   "execution_count": 2,
   "metadata": {},
   "outputs": [],
   "source": [
    "from util import *"
   ]
  },
  {
   "cell_type": "code",
   "execution_count": 3,
   "metadata": {},
   "outputs": [
    {
     "name": "stdout",
     "output_type": "stream",
     "text": [
      "Importing data...\n"
     ]
    },
    {
     "name": "stderr",
     "output_type": "stream",
     "text": [
      "/opt/anaconda3/envs/tf/lib/python3.7/site-packages/numpy/core/fromnumeric.py:3213: VisibleDeprecationWarning: Creating an ndarray from ragged nested sequences (which is a list-or-tuple of lists-or-tuples-or ndarrays with different lengths or shapes) is deprecated. If you meant to do this, you must specify 'dtype=object' when creating the ndarray.\n",
      "  return asarray(a).shape[axis]\n"
     ]
    },
    {
     "name": "stdout",
     "output_type": "stream",
     "text": [
      "X has 4061 examples and 9609 features in BOW format...\n"
     ]
    }
   ],
   "source": [
    "X,vocab = load_data('data/cnnhealth.txt')"
   ]
  },
  {
   "cell_type": "code",
   "execution_count": 4,
   "metadata": {},
   "outputs": [
    {
     "name": "stdout",
     "output_type": "stream",
     "text": [
      "Dataset Statistics:\n",
      "# Number of Tweets: 4061\n",
      "# Number of Words (Total): 32612\n",
      "# Number of Tokens: 9609\n",
      "# Average Number of Words per Tweet: 8.031\n",
      "# Top 10 Legal Tokens: ['health' 'getfit' 'new' '@cnnhealth' \"today's\" 'cancer' 'know' 'kids'\n",
      " '@drsanjaygupta' 'ebola']\n"
     ]
    }
   ],
   "source": [
    "generate_statistics(X, vocab)"
   ]
  },
  {
   "cell_type": "code",
   "execution_count": 5,
   "metadata": {},
   "outputs": [],
   "source": [
    "def save_distance_matrices(X):\n",
    "    distance_matrix_1 = create_distance_matrix(X,distance_type=1)\n",
    "    distance_matrix_2 = create_distance_matrix(X,distance_type=2)\n",
    "    with open('distance_matrices.npy', 'wb') as file:\n",
    "        np.save(file, distance_matrix_1)\n",
    "        np.save(file, distance_matrix_2)"
   ]
  },
  {
   "cell_type": "code",
   "execution_count": 6,
   "metadata": {},
   "outputs": [],
   "source": [
    "def load_distance_matrices():\n",
    "    with open('distance_matrices.npy', 'rb') as file:\n",
    "        distance_matrix_1 = np.load(file)\n",
    "        distance_matrix_2 = np.load(file)\n",
    "    return distance_matrix_1, distance_matrix_2"
   ]
  },
  {
   "cell_type": "code",
   "execution_count": 7,
   "metadata": {},
   "outputs": [
    {
     "name": "stdout",
     "output_type": "stream",
     "text": [
      "0.9997537552327013365\r"
     ]
    }
   ],
   "source": [
    "save_distance_matrices(X)"
   ]
  },
  {
   "cell_type": "code",
   "execution_count": 42,
   "metadata": {},
   "outputs": [],
   "source": [
    "distance_matrix_1, distance_matrix_2 = load_distance_matrices()"
   ]
  },
  {
   "cell_type": "code",
   "execution_count": 43,
   "metadata": {},
   "outputs": [],
   "source": [
    "def unique_distances(distance_matrix):\n",
    "    # takes only the unique distances (bottom triangle section with the diagonal) from the distance matrix and returns them as a list\n",
    "    m,n = distance_matrix.shape\n",
    "    assert m==n\n",
    "    distances = []\n",
    "    for i in range(m):\n",
    "        for j in range(i+1):\n",
    "            distances.append(distance_matrix[i,j])\n",
    "    return np.array(distances)"
   ]
  },
  {
   "cell_type": "code",
   "execution_count": 44,
   "metadata": {},
   "outputs": [],
   "source": [
    "plt.rcParams['figure.dpi'] = 100"
   ]
  },
  {
   "cell_type": "code",
   "execution_count": 45,
   "metadata": {},
   "outputs": [],
   "source": [
    "def plot_distance_distributions(distance_matrix_1, distance_matrix_2):\n",
    "    distances_1 = unique_distances(distance_matrix_1)\n",
    "    distances_2 = unique_distances(distance_matrix_2)\n",
    "    fig, axes = plt.subplots(2, 1)\n",
    "    fig.set_size_inches(6,6)\n",
    "    fig.tight_layout()\n",
    "    axes[0].hist(distances_1, bins=40, color=purples[4])\n",
    "    axes[0].set_title('Distribution of Distances under Measure 1')\n",
    "    axes[0].set_ylabel('Num instances')\n",
    "\n",
    "    axes[1].hist(distances_2, bins=40, color=purples[4])\n",
    "    axes[1].set_title('Distribution of Distances under Measure 2')\n",
    "    axes[1].set_xlabel('Distance')\n",
    "    axes[1].set_ylabel('Num instances')\n",
    "    plt.show();"
   ]
  },
  {
   "cell_type": "code",
   "execution_count": 46,
   "metadata": {},
   "outputs": [
    {
     "data": {
      "image/png": "[encoded data removed]",
      "text/plain": [
       "<Figure size 600x600 with 2 Axes>"
      ]
     },
     "metadata": {
      "needs_background": "light"
     },
     "output_type": "display_data"
    }
   ],
   "source": [
    "plot_distance_distributions(distance_matrix_1, distance_matrix_2)"
   ]
  },
  {
   "cell_type": "code",
   "execution_count": null,
   "metadata": {},
   "outputs": [],
   "source": []
  }
 ],
 "metadata": {
  "kernelspec": {
   "display_name": "Python 3",
   "language": "python",
   "name": "python3"
  },
  "language_info": {
   "codemirror_mode": {
    "name": "ipython",
    "version": 3
   },
   "file_extension": ".py",
   "mimetype": "text/x-python",
   "name": "python",
   "nbconvert_exporter": "python",
   "pygments_lexer": "ipython3",
   "version": "3.7.13"
  },
  "orig_nbformat": 4,
  "vscode": {
   "interpreter": {
    "hash": "dc1b947dce198ff7f2d2cb152b2cbb61132fce4429fa808fd5b89ac4d7df39fa"
   }
  }
 },
 "nbformat": 4,
 "nbformat_minor": 2
}
