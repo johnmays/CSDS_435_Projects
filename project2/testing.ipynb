{
 "cells": [
  {
   "cell_type": "code",
   "execution_count": 6,
   "metadata": {},
   "outputs": [],
   "source": [
    "import numpy as np\n",
    "from typing import Tuple\n",
    "import matplotlib.pyplot as plt\n",
    "import re\n",
    "# from scipy.spatial import distance_matrix"
   ]
  },
  {
   "cell_type": "code",
   "execution_count": 7,
   "metadata": {},
   "outputs": [],
   "source": [
    "from util import load_data, generate_statistics"
   ]
  },
  {
   "cell_type": "code",
   "execution_count": 8,
   "metadata": {},
   "outputs": [],
   "source": [
    "stopwords = ['', \"wasn't\", 'there', 'been', 'they', 'until', 'yourself', 'that', 'themselves', 'into', 'where', 'he', 'both', \"it's\", 'too', 'under', 'no', 'in', 'the', 'me', 'which', 'do', 'i', 'own', 'their', 'him', \"that'll\", 'up', '&amp;', 'same', 'at', 'a', 'rt', \"aren't\", 'who', 'on', 'we', 'being', 'can', 'against', 'your', 'she', 'again', 'whom', 'will', 'as', 'did', 'has', \"isn't\", 'few', 'through', 'down', \"should've\", \"you'll\", 'myself', 'himself', 'such', 'am', 'tip', 'most', 'but', 'while', 'to', 'if', \"weren't\", \"won't\", 'us', 'and', 'how', 'be', 'each', 'some', 'may', 'says', 'about', 'for', 'any', 'only', 'are', 'his', 'with', 'by', 'here', \"doesn't\", 'all', 'then', 'of', 'hers', 'them', 'or', 'theirs', 'because', 'having', 'itself', 'what', 'yourselves', \"shouldn't\", 'its', 'were', 'during', \"didn't\", 'further', 'nor', 'out', 'had', \"you'd\", 'not', 'you', 'could', 'our', 'my', 'other', 'herself', 'after', 'her', 'those', 'why', 'have', \"hasn't\", \"you're\", 'once', 'doing', 'below', 'yours', \"she's\", '--', 'is', 'off', 'an', 'via', \"hadn't\", 'from', 'ours', 'so', \"wouldn't\", \"you've\", 'this', 'over', 'it', 'between', 'when', \"haven't\", 'more', 'before', \"couldn't\", 'than', 'very', 'these', 'ourselves', \"don't\", 'above', 'does', 'was', 'should', 'rt', 'would', 'w/', 'just']"
   ]
  },
  {
   "cell_type": "code",
   "execution_count": 9,
   "metadata": {},
   "outputs": [
    {
     "name": "stdout",
     "output_type": "stream",
     "text": [
      "Importing data...\n"
     ]
    },
    {
     "name": "stderr",
     "output_type": "stream",
     "text": [
      "/opt/anaconda3/envs/tf/lib/python3.7/site-packages/numpy/core/fromnumeric.py:3213: VisibleDeprecationWarning: Creating an ndarray from ragged nested sequences (which is a list-or-tuple of lists-or-tuples-or ndarrays with different lengths or shapes) is deprecated. If you meant to do this, you must specify 'dtype=object' when creating the ndarray.\n",
      "  return asarray(a).shape[axis]\n"
     ]
    },
    {
     "name": "stdout",
     "output_type": "stream",
     "text": [
      "X has 4061 examples and 13552 features in BOW format...\n"
     ]
    }
   ],
   "source": [
    "X,vocab = load_data('data/cnnhealth.txt', stopwords)"
   ]
  },
  {
   "cell_type": "code",
   "execution_count": 5,
   "metadata": {},
   "outputs": [],
   "source": [
    "def distance1(x1,x2):\n",
    "    \"\"\"\n",
    "    nonlocal, normalized edit distance\n",
    "    \"\"\"\n",
    "    return np.sum(np.abs(x1-x2))/(np.sum(x1)+np.sum(x2))\n",
    "\n",
    "def distance2(x1,x2):\n",
    "    \"\"\"\n",
    "    Euclidean distance\n",
    "    \"\"\"\n",
    "    return np.sqrt(np.sum(np.power((x1-x2), 2)))"
   ]
  },
  {
   "cell_type": "code",
   "execution_count": 12,
   "metadata": {},
   "outputs": [],
   "source": [
    "def create_distance_matrix(X:np.ndarray, distance_type=1) -> np.ndarray:\n",
    "    assert distance_type in (1,2)\n",
    "    '''\n",
    "    return distance_matrix(X,X, p=distance_type, threshold=1000000)\n",
    "    if distance_type == 1:\n",
    "        return np.linalg.norm(X[:, None, :] - X[None, :, :], axis=-1, ord=1)\n",
    "    else:\n",
    "        return np.linalg.norm(X[:, None, :] - X[None, :, :], axis=-1, ord=2)\n",
    "    '''\n",
    "    if distance_type == 1:\n",
    "        distance_measure = distance1\n",
    "    else:\n",
    "        distance_measure = distance2\n",
    "    m,n = np.shape(X)\n",
    "    distance_matrix = np.zeros(shape=(m,m))\n",
    "    for i in range(m):\n",
    "        print(str(i/m), end='\\r')\n",
    "        for j in range(i):\n",
    "            distance_matrix[i,j] = distance_measure(X[i],X[j])\n",
    "            distance_matrix[j,i] = distance_matrix[i,j]\n",
    "    return distance_matrix"
   ]
  },
  {
   "cell_type": "code",
   "execution_count": 13,
   "metadata": {},
   "outputs": [
    {
     "name": "stdout",
     "output_type": "stream",
     "text": [
      "0.9997537552327013365\r"
     ]
    }
   ],
   "source": [
    "distance_matrix_1 = create_distance_matrix(X,distance_type=1)"
   ]
  },
  {
   "cell_type": "code",
   "execution_count": 14,
   "metadata": {},
   "outputs": [
    {
     "name": "stdout",
     "output_type": "stream",
     "text": [
      "0.9997537552327013365\r"
     ]
    }
   ],
   "source": [
    "distance_matrix_2 = create_distance_matrix(X,distance_type=2)"
   ]
  },
  {
   "cell_type": "code",
   "execution_count": 15,
   "metadata": {},
   "outputs": [],
   "source": [
    "'''\n",
    "with open('distance_matrices.npy', 'wb') as file:\n",
    "    np.save(file, distance_matrix_1)\n",
    "    np.save(file, distance_matrix_2)\n",
    "'''"
   ]
  },
  {
   "cell_type": "code",
   "execution_count": 6,
   "metadata": {},
   "outputs": [],
   "source": [
    "with open('distance_matrices.npy', 'rb') as file:\n",
    "    distance_matrix_1 = np.load(file)\n",
    "    distance_matrix_2 = np.load(file)"
   ]
  },
  {
   "cell_type": "code",
   "execution_count": 10,
   "metadata": {},
   "outputs": [
    {
     "name": "stdout",
     "output_type": "stream",
     "text": [
      "Dataset Statistics:\n",
      "# Number of Tweets: 4061\n",
      "# Number of Words (Total): 36504\n",
      "# Number of Tokens: 13552\n",
      "# Average Number of Words per Tweet: 8.989\n",
      "# Top 5 Legal Tokens: ['#getfit' 'new' '@cnnhealth' \"today's\" 'health' 'know' '@drsanjaygupta'\n",
      " 'kids' '#health' 'one' 'help' '5' 'brain' 'cancer' 'study' '@cnn' 'story'\n",
      " 'see' '#ebola' 'make' 'food' 'life' 'healthy' 'time' 'say' 'day' 'like'\n",
      " 'need' 'good' \"here's\" 'just' 'want' 'lost' 'join' '10' '@cnnfitnation'\n",
      " 'pounds' 'now' 'check' 'love' 'watch' 'ways' 'risk' 'medical'\n",
      " '#weightloss' 'heart' 'use' 'people' 'first' 'things']\n"
     ]
    }
   ],
   "source": [
    "generate_statistics(X, vocab)"
   ]
  },
  {
   "cell_type": "code",
   "execution_count": null,
   "metadata": {},
   "outputs": [],
   "source": []
  },
  {
   "cell_type": "code",
   "execution_count": 9,
   "metadata": {},
   "outputs": [],
   "source": [
    "ntlk = ['i', 'me', 'my', 'myself', 'we', 'our', 'ours', 'ourselves', 'you', \"you're\", \"you've\", \"you'll\", \"you'd\", 'your', 'yours', 'yourself', 'yourselves', 'he', 'him', 'his', 'himself', 'she', \"she's\", 'her', 'hers', 'herself', 'it', \"it's\", 'its', 'itself', 'they', 'them', 'their', 'theirs', 'themselves', 'what', 'which', 'who', 'whom', 'this', 'that', \"that'll\", 'these', 'those', 'am', 'is', 'are', 'was', 'were', 'be', 'been', 'being', 'have', 'has', 'had', 'having', 'do', 'does', 'did', 'doing', 'a', 'an', 'the', 'and', 'but', 'if', 'or', 'because', 'as', 'until', 'while', 'of', 'at', 'by', 'for', 'with', 'about', 'against', 'between', 'into', 'through', 'during', 'before', 'after', 'above', 'below', 'to', 'from', 'up', 'down', 'in', 'out', 'on', 'off', 'over', 'under', 'again', 'further', 'then', 'once', 'here', 'there', 'when', 'where', 'why', 'how', 'all', 'any', 'both', 'each', 'few', 'more', 'most', 'other', 'some', 'such', 'no', 'nor', 'not', 'only', 'own', 'same', 'so', 'than', 'too', 'very', 's', 't', 'can', 'will', 'just', 'don', \"don't\", 'should', \"should've\", 'now', 'd', 'll', 'm', 'o', 're', 've', 'y', 'ain', 'aren', \"aren't\", 'couldn', \"couldn't\", 'didn', \"didn't\", 'doesn', \"doesn't\", 'hadn', \"hadn't\", 'hasn', \"hasn't\", 'haven', \"haven't\", 'isn', \"isn't\", 'ma', 'mightn', \"mightn't\", 'mustn', \"mustn't\", 'needn', \"needn't\", 'shan', \"shan't\", 'shouldn', \"shouldn't\", 'wasn', \"wasn't\", 'weren', \"weren't\", 'won', \"won't\", 'wouldn', \"wouldn't\"]"
   ]
  },
  {
   "cell_type": "code",
   "execution_count": 10,
   "metadata": {},
   "outputs": [],
   "source": [
    "def diff(x:list,y:list):\n",
    "    res = []\n",
    "    for item in x:\n",
    "        if item not in y:\n",
    "            res.append(item)\n",
    "    return res"
   ]
  },
  {
   "cell_type": "code",
   "execution_count": 20,
   "metadata": {},
   "outputs": [
    {
     "data": {
      "text/plain": [
       "['may',\n",
       " 'thatdous',\n",
       " '--',\n",
       " 'rt',\n",
       " 'us',\n",
       " '&amp;',\n",
       " 'tip',\n",
       " 'via',\n",
       " 'says',\n",
       " 'get',\n",
       " 'could',\n",
       " '']"
      ]
     },
     "execution_count": 20,
     "metadata": {},
     "output_type": "execute_result"
    }
   ],
   "source": [
    "# items in my list that aren't in ntlk\n",
    "diff(stopwords, ntlk)"
   ]
  },
  {
   "cell_type": "code",
   "execution_count": 21,
   "metadata": {},
   "outputs": [
    {
     "name": "stdout",
     "output_type": "stream",
     "text": [
      "['s', 't', 'just', 'don', 'now', 'd', 'll', 'm', 'o', 're', 've', 'y', 'ain', 'aren', 'couldn', 'didn', 'doesn', 'hadn', 'hasn', 'haven', 'isn', 'ma', 'mightn', \"mightn't\", 'mustn', \"mustn't\", 'needn', \"needn't\", 'shan', \"shan't\", 'shouldn', 'wasn', 'weren', 'won', 'wouldn']\n"
     ]
    }
   ],
   "source": [
    "# items in ntlk that aren't in my list\n",
    "print(diff(ntlk, stopwords))"
   ]
  },
  {
   "cell_type": "code",
   "execution_count": null,
   "metadata": {},
   "outputs": [],
   "source": [
    "just "
   ]
  },
  {
   "cell_type": "code",
   "execution_count": 11,
   "metadata": {},
   "outputs": [
    {
     "data": {
      "text/plain": [
       "'people with ebola are sos ick'"
      ]
     },
     "execution_count": 11,
     "metadata": {},
     "output_type": "execute_result"
    }
   ],
   "source": [
    "re.sub('#','','people with #ebola are sos ick')"
   ]
  },
  {
   "cell_type": "code",
   "execution_count": null,
   "metadata": {},
   "outputs": [],
   "source": [
    "re.sub('#','','people with #ebola are sos ick')"
   ]
  }
 ],
 "metadata": {
  "kernelspec": {
   "display_name": "Python 3",
   "language": "python",
   "name": "python3"
  },
  "language_info": {
   "codemirror_mode": {
    "name": "ipython",
    "version": 3
   },
   "file_extension": ".py",
   "mimetype": "text/x-python",
   "name": "python",
   "nbconvert_exporter": "python",
   "pygments_lexer": "ipython3",
   "version": "3.7.13"
  },
  "orig_nbformat": 4,
  "vscode": {
   "interpreter": {
    "hash": "dc1b947dce198ff7f2d2cb152b2cbb61132fce4429fa808fd5b89ac4d7df39fa"
   }
  }
 },
 "nbformat": 4,
 "nbformat_minor": 2
}
