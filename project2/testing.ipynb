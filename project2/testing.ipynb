{
 "cells": [
  {
   "cell_type": "code",
   "execution_count": 14,
   "metadata": {},
   "outputs": [],
   "source": [
    "import numpy as np\n",
    "from typing import Tuple\n",
    "import matplotlib.pyplot as plt\n",
    "import re"
   ]
  },
  {
   "cell_type": "code",
   "execution_count": 15,
   "metadata": {},
   "outputs": [],
   "source": [
    "stopwords = [\"a\", \"an\", \"the\", \"is\", \"to\", \"for\", \"in\", \"of\", \"and\", \"on\", '']"
   ]
  },
  {
   "cell_type": "code",
   "execution_count": 16,
   "metadata": {},
   "outputs": [],
   "source": [
    "def remove_stopwords(words, stopwords):\n",
    "    return list(filter(lambda word: word not in stopwords, words))"
   ]
  },
  {
   "cell_type": "code",
   "execution_count": 17,
   "metadata": {},
   "outputs": [],
   "source": [
    "def load_data(path: str, stopwords = [\"a\", \"the\", \"is\"]): \n",
    "    print('Importing data...')\n",
    "    # format file into a list of tweets:\n",
    "    lines = []\n",
    "    with open(path, newline='\\n') as file:\n",
    "        lines = file.readlines()\n",
    "    # take last column, take out punctuation, make lowercase, split into list of words\n",
    "    for i, line in enumerate(lines):\n",
    "        words_in_a_line = re.sub(r'!|:|,|\\.|\\|', '', line.split('|')[2]).lower().split(' ')\n",
    "        lines[i] = remove_stopwords(words_in_a_line, stopwords)\n",
    "    vocab = np.unique(np.concatenate(lines).flat)\n",
    "    # creating data vector X:\n",
    "    n = np.size(vocab)\n",
    "    m = np.size(lines, axis=0)\n",
    "    X = np.zeros((m,n))\n",
    "    # populating X:\n",
    "    for i, line in enumerate(lines):\n",
    "        for word in line:\n",
    "            j = np.where(vocab==word)[0]\n",
    "            X[i,j] += 1\n",
    "\n",
    "    print('X has {} examples and {} features in BOW format...'.format(m,n))\n",
    "    return X, np.array(vocab)"
   ]
  },
  {
   "cell_type": "code",
   "execution_count": 18,
   "metadata": {},
   "outputs": [
    {
     "name": "stdout",
     "output_type": "stream",
     "text": [
      "Importing data...\n"
     ]
    },
    {
     "name": "stderr",
     "output_type": "stream",
     "text": [
      "/opt/anaconda3/envs/tf/lib/python3.7/site-packages/numpy/core/fromnumeric.py:3213: VisibleDeprecationWarning: Creating an ndarray from ragged nested sequences (which is a list-or-tuple of lists-or-tuples-or ndarrays with different lengths or shapes) is deprecated. If you meant to do this, you must specify 'dtype=object' when creating the ndarray.\n",
      "  return asarray(a).shape[axis]\n"
     ]
    },
    {
     "name": "stdout",
     "output_type": "stream",
     "text": [
      "X has 4061 examples and 13685 features in BOW format...\n"
     ]
    }
   ],
   "source": [
    "X,vocab = load_data('data/cnnhealth.txt', stopwords)"
   ]
  },
  {
   "cell_type": "code",
   "execution_count": 19,
   "metadata": {},
   "outputs": [],
   "source": [
    "lines = []\n",
    "with open('data/cnnhealth.txt', newline='\\n') as file:\n",
    "    lines = file.readlines()"
   ]
  },
  {
   "cell_type": "code",
   "execution_count": 26,
   "metadata": {},
   "outputs": [],
   "source": [
    "def generate_statistics(X,vocab):\n",
    "    print(\"Dataset Statistics:\")\n",
    "    m,n = np.shape(X)\n",
    "    num_words = int(np.sum(X))\n",
    "    print(\"# Number of Tweets: {}\".format(m))\n",
    "    print(\"# Number of Words (Total): {}\".format(num_words))\n",
    "    print(\"# Number of Tokens: {}\".format(n))\n",
    "    print(\"# Average Number of Words per Tweet: {}\".format(round((num_words/m),3)))\n",
    "    print(\"# Top 5 Legal Tokens: {}\".format(vocab[np.flip(np.argsort(np.sum(X, axis=0)))[0:5]]))"
   ]
  },
  {
   "cell_type": "code",
   "execution_count": 27,
   "metadata": {},
   "outputs": [
    {
     "name": "stdout",
     "output_type": "stream",
     "text": [
      "Dataset Statistics:\n",
      "# Number of Tweets: 4061\n",
      "# Number of Words (Total): 48233\n",
      "# Number of Tokens: 13685\n",
      "# Average Number of Words per Tweet: 11.877\n",
      "# Top 5 Legal Tokens: ['you' 'rt' 'your' 'are' 'this']\n"
     ]
    }
   ],
   "source": [
    "generate_statistics(X,vocab)"
   ]
  },
  {
   "cell_type": "code",
   "execution_count": 23,
   "metadata": {},
   "outputs": [],
   "source": [
    "# re.sub(r'!|:|,|.', '', line.split('|')[2]).lower().split(' ')"
   ]
  },
  {
   "cell_type": "code",
   "execution_count": 24,
   "metadata": {},
   "outputs": [
    {
     "data": {
      "text/plain": [
       "'An abundance of online info can turn us into e-hypochondriacs. Or, worse, lead us to neglect getting the care we need http://cnn.it/1L1t1Fv\\r\\n'"
      ]
     },
     "execution_count": 24,
     "metadata": {},
     "output_type": "execute_result"
    }
   ],
   "source": [
    "lines[0].split('|')[2]"
   ]
  }
 ],
 "metadata": {
  "kernelspec": {
   "display_name": "Python 3",
   "language": "python",
   "name": "python3"
  },
  "language_info": {
   "codemirror_mode": {
    "name": "ipython",
    "version": 3
   },
   "file_extension": ".py",
   "mimetype": "text/x-python",
   "name": "python",
   "nbconvert_exporter": "python",
   "pygments_lexer": "ipython3",
   "version": "3.7.13"
  },
  "orig_nbformat": 4
 },
 "nbformat": 4,
 "nbformat_minor": 2
}
