{
 "cells": [
  {
   "cell_type": "code",
   "execution_count": 30,
   "metadata": {},
   "outputs": [],
   "source": [
    "import numpy as np\n",
    "from typing import Tuple\n",
    "import matplotlib.pyplot as plt\n",
    "\n",
    "def load_data(path: str): \n",
    "    print('Importing data...')\n",
    "    # format file into a list of tweets:\n",
    "    lines = []\n",
    "    with open(path, newline='\\n') as file:\n",
    "        lines = file.readlines()\n",
    "    # take the last column in a line (the tweet) and split it by spaces:\n",
    "    for i, line in enumerate(lines):\n",
    "        lines[i] = line.split('|')[2].split(' ')\n",
    "    vocab = np.unique(np.concatenate(lines).flat)\n",
    "    # creating data vector X:\n",
    "    n = np.size(vocab)\n",
    "    m = np.size(lines, axis=0)\n",
    "    X = np.zeros((m,n))\n",
    "    # populating X:\n",
    "    for i, line in enumerate(lines):\n",
    "        for word in line:\n",
    "            j = np.where(vocab==word)[0]\n",
    "            X[i,j] += 1\n",
    "\n",
    "    print('X has {} examples and {} features in BOW format...'.format(m,n))\n",
    "    return X, np.array(vocab)"
   ]
  },
  {
   "cell_type": "code",
   "execution_count": 31,
   "metadata": {},
   "outputs": [
    {
     "name": "stdout",
     "output_type": "stream",
     "text": [
      "Importing data...\n"
     ]
    },
    {
     "name": "stderr",
     "output_type": "stream",
     "text": [
      "/opt/anaconda3/envs/tf/lib/python3.7/site-packages/numpy/core/fromnumeric.py:3213: VisibleDeprecationWarning: Creating an ndarray from ragged nested sequences (which is a list-or-tuple of lists-or-tuples-or ndarrays with different lengths or shapes) is deprecated. If you meant to do this, you must specify 'dtype=object' when creating the ndarray.\n",
      "  return asarray(a).shape[axis]\n"
     ]
    },
    {
     "name": "stdout",
     "output_type": "stream",
     "text": [
      "X has 4061 examples and 16909 features in BOW format...\n"
     ]
    }
   ],
   "source": [
    "X, vocab = load_data('data/cnnhealth.txt')"
   ]
  },
  {
   "cell_type": "code",
   "execution_count": 32,
   "metadata": {},
   "outputs": [
    {
     "data": {
      "text/plain": [
       "(array([ 3175,  4843,  5878,  6741,  6783,  7815,  8507, 10759, 12760,\n",
       "        12828, 13057, 13716, 13728, 13851, 13909, 15928, 16051, 16271,\n",
       "        16553, 16754]),)"
      ]
     },
     "execution_count": 32,
     "metadata": {},
     "output_type": "execute_result"
    }
   ],
   "source": [
    "np.where(X[0]==1)"
   ]
  },
  {
   "cell_type": "code",
   "execution_count": 37,
   "metadata": {},
   "outputs": [
    {
     "data": {
      "text/plain": [
       "array(['An', 'Or,', 'abundance', 'can', 'care', 'e-hypochondriacs.',\n",
       "       'getting', 'http://cnn.it/1L1t1Fv\\r\\n', 'info', 'into', 'lead',\n",
       "       'need', 'neglect', 'of', 'online', 'the', 'to', 'turn', 'us', 'we',\n",
       "       'worse,'], dtype='<U161')"
      ]
     },
     "execution_count": 37,
     "metadata": {},
     "output_type": "execute_result"
    }
   ],
   "source": [
    "vocab[np.where(X[0]!=0)]"
   ]
  },
  {
   "cell_type": "code",
   "execution_count": 39,
   "metadata": {},
   "outputs": [],
   "source": [
    "lines = []\n",
    "with open('data/cnnhealth.txt', newline='\\n') as file:\n",
    "    lines = file.readlines()"
   ]
  },
  {
   "cell_type": "code",
   "execution_count": 40,
   "metadata": {},
   "outputs": [
    {
     "data": {
      "text/plain": [
       "'576880531301801984|Sat Mar 14 23:00:11 +0000 2015|An abundance of online info can turn us into e-hypochondriacs. Or, worse, lead us to neglect getting the care we need http://cnn.it/1L1t1Fv\\r\\n'"
      ]
     },
     "execution_count": 40,
     "metadata": {},
     "output_type": "execute_result"
    }
   ],
   "source": [
    "lines[0]"
   ]
  },
  {
   "cell_type": "code",
   "execution_count": null,
   "metadata": {},
   "outputs": [],
   "source": []
  }
 ],
 "metadata": {
  "kernelspec": {
   "display_name": "Python 3",
   "language": "python",
   "name": "python3"
  },
  "language_info": {
   "codemirror_mode": {
    "name": "ipython",
    "version": 3
   },
   "file_extension": ".py",
   "mimetype": "text/x-python",
   "name": "python",
   "nbconvert_exporter": "python",
   "pygments_lexer": "ipython3",
   "version": "3.7.13"
  },
  "orig_nbformat": 4
 },
 "nbformat": 4,
 "nbformat_minor": 2
}
