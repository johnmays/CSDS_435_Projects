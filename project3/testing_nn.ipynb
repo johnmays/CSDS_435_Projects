{
 "cells": [
  {
   "cell_type": "code",
   "execution_count": 1,
   "metadata": {},
   "outputs": [],
   "source": [
    "import pandas as pd\n",
    "import numpy as np\n",
    "import matplotlib.pyplot as plt\n",
    "import keras\n",
    "from util import *\n",
    "import surprise"
   ]
  },
  {
   "cell_type": "code",
   "execution_count": 2,
   "metadata": {},
   "outputs": [],
   "source": [
    "data = surprise.Dataset.load_builtin('ml-100k')"
   ]
  },
  {
   "cell_type": "code",
   "execution_count": 3,
   "metadata": {},
   "outputs": [
    {
     "ename": "NameError",
     "evalue": "name 'get_fold_matrices' is not defined",
     "output_type": "error",
     "traceback": [
      "\u001b[1;31m---------------------------------------------------------------------------\u001b[0m",
      "\u001b[1;31mNameError\u001b[0m                                 Traceback (most recent call last)",
      "\u001b[1;32mc:\\Users\\aaore\\Classes\\CSDS_435\\CSDS_435_Projects\\project3\\testing_nn.ipynb Cell 3\u001b[0m in \u001b[0;36m1\n\u001b[1;32m----> <a href='vscode-notebook-cell:/c%3A/Users/aaore/Classes/CSDS_435/CSDS_435_Projects/project3/testing_nn.ipynb#W2sZmlsZQ%3D%3D?line=0'>1</a>\u001b[0m res \u001b[39m=\u001b[39m get_fold_matrices(data)\n",
      "\u001b[1;31mNameError\u001b[0m: name 'get_fold_matrices' is not defined"
     ]
    }
   ],
   "source": [
    "res = get_fold_matrices(data)"
   ]
  },
  {
   "cell_type": "code",
   "execution_count": null,
   "metadata": {},
   "outputs": [],
   "source": [
    "fold1 = res[0]"
   ]
  },
  {
   "attachments": {},
   "cell_type": "markdown",
   "metadata": {},
   "source": [
    "### Importing w/ Aaron's fn"
   ]
  },
  {
   "cell_type": "code",
   "execution_count": null,
   "metadata": {},
   "outputs": [],
   "source": [
    "data = surprise.Dataset.load_builtin('ml-100k')\n",
    "full_tr = data.build_full_trainset()\n",
    "folds = get_xy(data, full_tr)"
   ]
  },
  {
   "cell_type": "code",
   "execution_count": null,
   "metadata": {},
   "outputs": [],
   "source": [
    "fold1 = folds[0]"
   ]
  },
  {
   "cell_type": "code",
   "execution_count": null,
   "metadata": {},
   "outputs": [],
   "source": [
    "X_train,y_train,X_test,y_test = fold1"
   ]
  },
  {
   "cell_type": "code",
   "execution_count": null,
   "metadata": {},
   "outputs": [],
   "source": [
    "# reshape:\n",
    "X_train = [X_train[:, 0], X_train[:, 1]]\n",
    "X_test = [X_test[:, 0], X_test[:, 1]]"
   ]
  },
  {
   "cell_type": "code",
   "execution_count": null,
   "metadata": {},
   "outputs": [
    {
     "data": {
      "text/plain": [
       "(80000, 2)"
      ]
     },
     "execution_count": 18,
     "metadata": {},
     "output_type": "execute_result"
    }
   ],
   "source": [
    "X_train.shape"
   ]
  },
  {
   "cell_type": "code",
   "execution_count": null,
   "metadata": {},
   "outputs": [],
   "source": [
    "num_users = np.size(np.unique(X_train[0]))\n",
    "num_movies = np.size(np.unique(X_train[1]))"
   ]
  },
  {
   "cell_type": "code",
   "execution_count": null,
   "metadata": {},
   "outputs": [
    {
     "name": "stdout",
     "output_type": "stream",
     "text": [
      "943\n",
      "1652\n"
     ]
    }
   ],
   "source": [
    "print(num_users)\n",
    "print(num_movies)"
   ]
  },
  {
   "cell_type": "code",
   "execution_count": null,
   "metadata": {},
   "outputs": [],
   "source": [
    "max_users = np.max([np.max(X_train[0]), np.max(X_test[0])])+1\n",
    "max_movies = np.max([np.max(X_train[1]), np.max(X_test[1])])+1"
   ]
  },
  {
   "cell_type": "code",
   "execution_count": null,
   "metadata": {},
   "outputs": [
    {
     "name": "stdout",
     "output_type": "stream",
     "text": [
      "943\n",
      "1682\n"
     ]
    }
   ],
   "source": [
    "print(max_users)\n",
    "print(max_movies)"
   ]
  },
  {
   "attachments": {},
   "cell_type": "markdown",
   "metadata": {},
   "source": [
    "- 5 folds\n",
    "- in a fold there are 943 movies"
   ]
  },
  {
   "cell_type": "code",
   "execution_count": null,
   "metadata": {},
   "outputs": [],
   "source": [
    "def NNPredictor(num_users, num_movies, num_factors):\n",
    "    # two input layers for movies and users\n",
    "    user_input = keras.layers.Input(shape=(1,))\n",
    "    movie_input = keras.layers.Input(shape=(1,))\n",
    "\n",
    "    # two embedding layers for movies and users (transforms indices into dense vectors)\n",
    "    user_embedding = keras.layers.Reshape((num_factors,))(keras.layers.Embedding(num_users,num_factors,embeddings_initializer='he_normal', embeddings_regularizer = keras.regularizers.l2(1e-16))(user_input))\n",
    "    movie_embedding = keras.layers.Reshape((num_factors,))(keras.layers.Embedding(num_movies,num_factors,embeddings_initializer='he_normal', embeddings_regularizer = keras.regularizers.l2(1e-16))(movie_input))\n",
    "\n",
    "    # dense hidden layer\n",
    "    # ...\n",
    "    \n",
    "    # output layer\n",
    "    out = keras.layers.Dot(axes=1)([user_embedding, movie_embedding])\n",
    "    \n",
    "    # Assembling & compiling model\n",
    "    model = keras.models.Model(inputs = [user_input,movie_input], outputs=out)\n",
    "    adam = keras.optimizers.Adam(lr=1e-3)\n",
    "    model.compile(loss='mean_squared_error', optimizer=adam)\n",
    "\n",
    "    return model"
   ]
  },
  {
   "cell_type": "code",
   "execution_count": null,
   "metadata": {},
   "outputs": [],
   "source": [
    "model = NNPredictor(max_users, max_movies, 50)"
   ]
  },
  {
   "cell_type": "code",
   "execution_count": null,
   "metadata": {},
   "outputs": [
    {
     "name": "stdout",
     "output_type": "stream",
     "text": [
      "Epoch 1/5\n",
      "1250/1250 [==============================] - 2s 1ms/step - loss: 10.3256\n",
      "Epoch 2/5\n",
      "1250/1250 [==============================] - 2s 1ms/step - loss: 1.4495\n",
      "Epoch 3/5\n",
      "1250/1250 [==============================] - 2s 1ms/step - loss: 0.9543\n",
      "Epoch 4/5\n",
      "1250/1250 [==============================] - 2s 1ms/step - loss: 0.8729\n",
      "Epoch 5/5\n",
      "1250/1250 [==============================] - 2s 1ms/step - loss: 0.8195\n"
     ]
    },
    {
     "data": {
      "text/plain": [
       "<keras.callbacks.History at 0x7f9371786760>"
      ]
     },
     "execution_count": 68,
     "metadata": {},
     "output_type": "execute_result"
    }
   ],
   "source": [
    "model.fit(x=X_train, y=y_train, batch_size=64, epochs=5, verbose=1) # validation_data=(X_test, y_test)"
   ]
  },
  {
   "cell_type": "code",
   "execution_count": null,
   "metadata": {},
   "outputs": [
    {
     "name": "stdout",
     "output_type": "stream",
     "text": [
      "625/625 [==============================] - 1s 1ms/step\n"
     ]
    }
   ],
   "source": [
    "res = model.predict(x=X_test)"
   ]
  },
  {
   "cell_type": "code",
   "execution_count": null,
   "metadata": {},
   "outputs": [
    {
     "name": "stdout",
     "output_type": "stream",
     "text": [
      "<class 'numpy.ndarray'>\n",
      "(20000, 1)\n"
     ]
    }
   ],
   "source": [
    "print(type(res))\n",
    "print(res.shape)\n",
    "\n",
    "pred = [Prediction(uid, iid, r, est, {}) for (uid, iid, r, est) in zip(X_test[0], X_test[1], y_test, res)]"
   ]
  },
  {
   "cell_type": "code",
   "execution_count": null,
   "metadata": {},
   "outputs": [
    {
     "data": {
      "text/plain": [
       "20000"
      ]
     },
     "execution_count": 74,
     "metadata": {},
     "output_type": "execute_result"
    }
   ],
   "source": [
    "y_test.size"
   ]
  },
  {
   "cell_type": "code",
   "execution_count": null,
   "metadata": {},
   "outputs": [],
   "source": []
  }
 ],
 "metadata": {
  "kernelspec": {
   "display_name": "venv",
   "language": "python",
   "name": "python3"
  },
  "language_info": {
   "codemirror_mode": {
    "name": "ipython",
    "version": 3
   },
   "file_extension": ".py",
   "mimetype": "text/x-python",
   "name": "python",
   "nbconvert_exporter": "python",
   "pygments_lexer": "ipython3",
   "version": "3.9.13"
  },
  "orig_nbformat": 4
 },
 "nbformat": 4,
 "nbformat_minor": 2
}
