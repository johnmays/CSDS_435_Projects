{
 "cells": [
  {
   "cell_type": "code",
   "execution_count": 1,
   "metadata": {},
   "outputs": [],
   "source": [
    "# Reflect changes in the modules immediately.\n",
    "%load_ext autoreload\n",
    "%autoreload 2"
   ]
  },
  {
   "cell_type": "code",
   "execution_count": 2,
   "metadata": {},
   "outputs": [
    {
     "name": "stderr",
     "output_type": "stream",
     "text": [
      "2023-04-30 21:19:27.460001: I tensorflow/core/platform/cpu_feature_guard.cc:182] This TensorFlow binary is optimized to use available CPU instructions in performance-critical operations.\n",
      "To enable the following instructions: AVX2 AVX512F AVX512_VNNI FMA, in other operations, rebuild TensorFlow with the appropriate compiler flags.\n"
     ]
    }
   ],
   "source": [
    "from surprise import Dataset\n",
    "import util\n",
    "\n",
    "data = Dataset.load_builtin('ml-100k')\n",
    "full_tr = data.build_full_trainset()"
   ]
  },
  {
   "cell_type": "code",
   "execution_count": 37,
   "metadata": {},
   "outputs": [
    {
     "name": "stdout",
     "output_type": "stream",
     "text": [
      "n_factors\n",
      "    |10  |20  |50  |100 \n",
      "RMSE|0.935|0.935|0.933|0.935\n",
      "MAE |0.738|0.737|0.735|0.737\n",
      "Time|0.564|0.635|0.864|1.178\n",
      "n_epochs\n",
      "    |10  |20  |50  \n",
      "RMSE|0.947|0.935|0.963\n",
      "MAE |0.749|0.737|0.755\n",
      "Time|1.133|1.433|3.146\n",
      "lr_all\n",
      "      |0.0025|0.005 |0.01  |0.025 \n",
      "RMSE  |0.946 |0.936 |0.952 |0.981 \n",
      "MAE   |0.748 |0.736 |0.746 |0.769 \n",
      "Time  |1.295 |1.254 |1.542 |1.321 \n"
     ]
    }
   ],
   "source": [
    "from surprise import SVD\n",
    "\n",
    "util.tune(\"n_factors\", [10, 20, 50, 100], SVD, data)\n",
    "util.tune(\"n_epochs\", [10, 20, 50], SVD, data)\n",
    "util.tune(\"lr_all\", [0.0025, 0.005, 0.01, 0.025], SVD, data)"
   ]
  },
  {
   "cell_type": "code",
   "execution_count": 36,
   "metadata": {},
   "outputs": [
    {
     "name": "stdout",
     "output_type": "stream",
     "text": [
      "reg_all\n",
      "     |0.01 |0.025|0.05 |0.1  \n",
      "RMSE |0.942|0.934|0.93 |0.937\n",
      "MAE  |0.742|0.736|0.735|0.742\n",
      "Time |1.446|1.615|1.513|1.279\n"
     ]
    }
   ],
   "source": [
    "util.tune(\"reg_all\", [0.01, 0.025, 0.05, 0.1], SVD, data)"
   ]
  },
  {
   "cell_type": "code",
   "execution_count": 39,
   "metadata": {},
   "outputs": [
    {
     "name": "stdout",
     "output_type": "stream",
     "text": [
      "      |Fold0 |Fold1 |Fold2 |Fold3 |Fold4 |Avg  \n",
      "RMSE  |0.937 |0.931 |0.929 |0.934 |0.943 |0.935\n",
      "MAE   |0.741 |0.733 |0.732 |0.735 |0.743 |0.737\n",
      "Time  |1.388 |1.593 |1.564 |1.628 |1.397 |1.514\n"
     ]
    }
   ],
   "source": [
    "svd = SVD()\n",
    "svd_res = util.run(svd, data)\n",
    "util.display(svd_res)"
   ]
  },
  {
   "cell_type": "code",
<<<<<<< HEAD
   "execution_count": 38,
=======
   "execution_count": 4,
   "metadata": {},
   "outputs": [
    {
     "name": "stdout",
     "output_type": "stream",
     "text": [
      "Computing the msd similarity matrix...\n",
      "Done computing similarity matrix.\n",
      "Computing the msd similarity matrix...\n",
      "Done computing similarity matrix.\n",
      "Computing the msd similarity matrix...\n",
      "Done computing similarity matrix.\n",
      "Computing the msd similarity matrix...\n",
      "Done computing similarity matrix.\n",
      "Computing the msd similarity matrix...\n",
      "Done computing similarity matrix.\n",
      "Computing the msd similarity matrix...\n",
      "Done computing similarity matrix.\n",
      "Computing the msd similarity matrix...\n",
      "Done computing similarity matrix.\n",
      "Computing the msd similarity matrix...\n",
      "Done computing similarity matrix.\n",
      "Computing the msd similarity matrix...\n",
      "Done computing similarity matrix.\n",
      "Computing the msd similarity matrix...\n",
      "Done computing similarity matrix.\n",
      "Computing the msd similarity matrix...\n",
      "Done computing similarity matrix.\n",
      "Computing the msd similarity matrix...\n",
      "Done computing similarity matrix.\n",
      "Computing the msd similarity matrix...\n",
      "Done computing similarity matrix.\n",
      "Computing the msd similarity matrix...\n",
      "Done computing similarity matrix.\n",
      "Computing the msd similarity matrix...\n",
      "Done computing similarity matrix.\n",
      "Computing the msd similarity matrix...\n",
      "Done computing similarity matrix.\n",
      "Computing the msd similarity matrix...\n",
      "Done computing similarity matrix.\n",
      "Computing the msd similarity matrix...\n",
      "Done computing similarity matrix.\n",
      "Computing the msd similarity matrix...\n",
      "Done computing similarity matrix.\n",
      "Computing the msd similarity matrix...\n",
      "Done computing similarity matrix.\n",
      "Computing the msd similarity matrix...\n",
      "Done computing similarity matrix.\n",
      "Computing the msd similarity matrix...\n",
      "Done computing similarity matrix.\n",
      "Computing the msd similarity matrix...\n",
      "Done computing similarity matrix.\n",
      "Computing the msd similarity matrix...\n",
      "Done computing similarity matrix.\n",
      "Computing the msd similarity matrix...\n",
      "Done computing similarity matrix.\n",
      "Computing the msd similarity matrix...\n",
      "Done computing similarity matrix.\n",
      "Computing the msd similarity matrix...\n",
      "Done computing similarity matrix.\n",
      "Computing the msd similarity matrix...\n",
      "Done computing similarity matrix.\n",
      "Computing the msd similarity matrix...\n",
      "Done computing similarity matrix.\n",
      "Computing the msd similarity matrix...\n",
      "Done computing similarity matrix.\n",
      "        |10      |20      |30      |40      |50      |100    \n",
      "RMSE    |0.988   |0.975   |0.976   |0.978   |0.98    |0.992  \n",
      "MAE     |0.777   |0.769   |0.77    |0.772   |0.775   |0.786  \n",
      "Time(s) |2.209   |2.36    |2.556   |2.669   |2.761   |3.173  \n"
     ]
    }
   ],
   "source": [
    "from surprise.prediction_algorithms.knns import KNNBasic as KNN\n",
    "\n",
    "ks = [10, 20, 30, 40, 50, 100]\n",
    "\n",
    "k_hp_res = []\n",
    "cols = []\n",
    "for k in ks:\n",
    "            cols.append(f\"{k}\")\n",
    "            k_hp_res.append(util.run(KNN(k=k), data))\n",
    "util.display_all(k_hp_res, cols=cols)"
   ]
  },
  {
   "cell_type": "code",
   "execution_count": 37,
>>>>>>> fc5f72b36a9b6b2129710f419898bfb8bddff41d
   "metadata": {},
   "outputs": [
    {
     "name": "stdout",
     "output_type": "stream",
     "text": [
      "k\n",
      "    |10  |20  |30  |40  |50  |100 \n",
      "RMSE|0.988|0.975|0.976|0.978|0.98|0.992\n",
      "MAE |0.777|0.769|0.77|0.772|0.775|0.786\n",
      "Time|3.111|3.172|4.04|5.612|4.105|3.356\n"
     ]
    }
   ],
   "source": [
    "from surprise.prediction_algorithms.knns import KNNBasic as KNN\n",
    "\n",
<<<<<<< HEAD
    "util.tune(\"k\", [10, 20, 30, 40, 50, 100], KNN, data)"
   ]
  },
  {
   "cell_type": "code",
   "execution_count": 40,
   "metadata": {},
   "outputs": [
    {
     "name": "stdout",
     "output_type": "stream",
     "text": [
      "      |Fold0 |Fold1 |Fold2 |Fold3 |Fold4 |Avg  \n",
      "RMSE  |0.975 |0.969 |0.975 |0.976 |0.982 |0.975\n",
      "MAE   |0.769 |0.764 |0.769 |0.769 |0.776 |0.769\n",
      "Time  |3.586 |3.2   |3.139 |4.55  |4.879 |3.871\n"
     ]
    }
   ],
   "source": [
    "knn = KNN(k=20, verbose=False)\n",
=======
    "knn = KNNBasic(k=20)\n",
>>>>>>> fc5f72b36a9b6b2129710f419898bfb8bddff41d
    "knn_res = util.run(knn, data)\n",
    "util.display(knn_res)"
   ]
  },
  {
   "cell_type": "code",
   "execution_count": 41,
   "metadata": {},
   "outputs": [
    {
     "name": "stdout",
     "output_type": "stream",
     "text": [
      "      |Fold0 |Fold1 |Fold2 |Fold3 |Fold4 |Avg  \n",
      "RMSE  |1.521 |1.526 |1.514 |1.526 |1.521 |1.522\n",
      "MAE   |1.225 |1.227 |1.216 |1.226 |1.221 |1.223\n",
      "Time  |0.255 |0.312 |1.098 |0.302 |0.291 |0.452\n"
     ]
    }
   ],
   "source": [
    "from surprise.prediction_algorithms.random_pred import NormalPredictor\n",
    "\n",
    "rand = NormalPredictor()\n",
    "rand_res = util.run(rand, data)\n",
    "util.display(rand_res)"
   ]
  },
  {
   "cell_type": "code",
   "execution_count": 7,
   "metadata": {},
   "outputs": [
    {
     "name": "stdout",
     "output_type": "stream",
     "text": [
      "        |Fold 0  |Fold 1  |Fold 2  |Fold 3  |Fold 4  |Avg    \n",
      "RMSE    |1.467   |1.457   |1.477   |1.477   |1.476   |1.471  \n",
      "MAE     |1.207   |1.195   |1.215   |1.211   |1.214   |1.208  \n",
      "Time(s) |12.895  |12.297  |11.082  |12.372  |10.494  |11.828 \n"
     ]
    }
   ],
   "source": [
    "mf_res = util.run_mf(data, 5, steps=5)\n",
    "util.display(mf_res)"
   ]
  },
  {
   "cell_type": "code",
   "execution_count": 8,
   "metadata": {},
   "outputs": [
    {
     "name": "stdout",
     "output_type": "stream",
     "text": [
      "        |Fold 0  |Fold 1  |Fold 2  |Fold 3  |Fold 4  |Avg    \n",
      "RMSE    |1.186   |1.188   |1.197   |1.193   |1.199   |1.193  \n",
      "MAE     |0.949   |0.949   |0.957   |0.951   |0.958   |0.953  \n",
      "Time(s) |26.253  |29.117  |25.806  |22.351  |21.458  |24.997 \n"
     ]
    }
   ],
   "source": [
    "mf_res_2 = util.run_mf(data, 5, steps=10)\n",
    "util.display(mf_res_2)"
   ]
  },
  {
   "cell_type": "code",
   "execution_count": 9,
   "metadata": {},
   "outputs": [
    {
     "name": "stdout",
     "output_type": "stream",
     "text": [
      "        |Fold 0  |Fold 1  |Fold 2  |Fold 3  |Fold 4  |Avg    \n",
      "RMSE    |1.127   |1.131   |1.137   |1.135   |1.144   |1.135  \n",
      "MAE     |0.909   |0.914   |0.919   |0.918   |0.924   |0.917  \n",
      "Time(s) |17.512  |17.396  |17.983  |19.812  |19.612  |18.463 \n"
     ]
    }
   ],
   "source": [
    "mf_res_3 = util.run_mf(data, 10, steps=5)\n",
    "util.display(mf_res_3)"
   ]
  },
  {
   "cell_type": "code",
   "execution_count": 10,
   "metadata": {},
   "outputs": [
    {
     "name": "stdout",
     "output_type": "stream",
     "text": [
      "        |Fold 0  |Fold 1  |Fold 2  |Fold 3  |Fold 4  |Avg    \n",
      "RMSE    |1.048   |1.043   |1.041   |1.043   |1.059   |1.047  \n",
      "MAE     |0.838   |0.832   |0.832   |0.834   |0.844   |0.836  \n",
      "Time(s) |37.887  |47.026  |48.4    |39.718  |54.137  |45.434 \n"
     ]
    }
   ],
   "source": [
    "mf_res_4 = util.run_mf(data, 10, steps=10)\n",
    "util.display(mf_res_4)"
   ]
  },
  {
   "cell_type": "code",
   "execution_count": 16,
   "metadata": {},
   "outputs": [
    {
     "name": "stdout",
     "output_type": "stream",
     "text": [
      "        |Fold 0  |Fold 1  |Fold 2  |Fold 3  |Fold 4  |Avg    \n",
      "RMSE    |0.991   |0.983   |0.985   |0.99    |0.996   |0.989  \n",
      "MAE     |0.786   |0.78    |0.783   |0.784   |0.788   |0.784  \n",
      "Time(s) |103.322 |103.447 |96.903  |93.013  |138.456 |107.028\n"
     ]
    }
   ],
   "source": [
    "mf_res_5 = util.run_mf(data, 10, steps=25)\n",
    "util.display(mf_res_5)"
   ]
  },
  {
   "cell_type": "code",
   "execution_count": 28,
   "metadata": {},
   "outputs": [
    {
     "name": "stdout",
     "output_type": "stream",
     "text": [
      "     |5,5  |5,10 |10,5 |10,10|10,25\n",
      "RMSE |1.471|1.193|1.135|1.047|0.989\n",
      "MAE  |1.208|0.953|0.917|0.836|0.784\n",
      "Time |11.828|24.997|18.463|45.434|107.028\n"
     ]
    }
   ],
   "source": [
    "util.display_all([mf_res, mf_res_2, mf_res_3, mf_res_4, mf_res_5], [\"5,5\",\"5,10\",\"10,5\",\"10,10\",\"10,25\"])"
   ]
  },
  {
   "cell_type": "code",
   "execution_count": 43,
   "metadata": {},
   "outputs": [
    {
     "name": "stdout",
     "output_type": "stream",
     "text": [
      "Epoch 1/5\n",
      "1250/1250 [==============================] - 3s 2ms/step - loss: 0.9615\n",
      "Epoch 2/5\n",
      "1250/1250 [==============================] - 3s 2ms/step - loss: 0.8647\n",
      "Epoch 3/5\n",
      "1250/1250 [==============================] - 3s 2ms/step - loss: 0.8241\n",
      "Epoch 4/5\n",
      "1250/1250 [==============================] - 3s 2ms/step - loss: 0.7878\n",
      "Epoch 5/5\n",
      "1250/1250 [==============================] - 3s 2ms/step - loss: 0.7575\n",
      "625/625 [==============================] - 1s 1ms/step\n",
      "Epoch 1/5\n",
      "1250/1250 [==============================] - 4s 2ms/step - loss: 0.9669\n",
      "Epoch 2/5\n",
      "1250/1250 [==============================] - 3s 3ms/step - loss: 0.8686\n",
      "Epoch 3/5\n",
      "1250/1250 [==============================] - 3s 2ms/step - loss: 0.8361\n",
      "Epoch 4/5\n",
      "1250/1250 [==============================] - 3s 2ms/step - loss: 0.8055\n",
      "Epoch 5/5\n",
      "1250/1250 [==============================] - 3s 2ms/step - loss: 0.7779\n",
      "625/625 [==============================] - 1s 1ms/step\n",
      "Epoch 1/5\n",
      "1250/1250 [==============================] - 4s 2ms/step - loss: 0.9618\n",
      "Epoch 2/5\n",
      "1250/1250 [==============================] - 3s 3ms/step - loss: 0.8660\n",
      "Epoch 3/5\n",
      "1250/1250 [==============================] - 3s 2ms/step - loss: 0.8293\n",
      "Epoch 4/5\n",
      "1250/1250 [==============================] - 3s 2ms/step - loss: 0.7985\n",
      "Epoch 5/5\n",
      "1250/1250 [==============================] - 2s 2ms/step - loss: 0.7704\n",
      "625/625 [==============================] - 1s 986us/step\n",
      "Epoch 1/5\n",
      "1250/1250 [==============================] - 3s 2ms/step - loss: 0.9627\n",
      "Epoch 2/5\n",
      "1250/1250 [==============================] - 3s 2ms/step - loss: 0.8698\n",
      "Epoch 3/5\n",
      "1250/1250 [==============================] - 2s 2ms/step - loss: 0.8372\n",
      "Epoch 4/5\n",
      "1250/1250 [==============================] - 2s 2ms/step - loss: 0.8057\n",
      "Epoch 5/5\n",
      "1250/1250 [==============================] - 2s 2ms/step - loss: 0.7788\n",
      "625/625 [==============================] - 1s 1ms/step\n",
      "Epoch 1/5\n",
      "1250/1250 [==============================] - 4s 3ms/step - loss: 0.9598\n",
      "Epoch 2/5\n",
      "1250/1250 [==============================] - 3s 2ms/step - loss: 0.8620\n",
      "Epoch 3/5\n",
      "1250/1250 [==============================] - 3s 2ms/step - loss: 0.8245\n",
      "Epoch 4/5\n",
      "1250/1250 [==============================] - 3s 2ms/step - loss: 0.7899\n",
      "Epoch 5/5\n",
      "1250/1250 [==============================] - 2s 2ms/step - loss: 0.7599\n",
      "625/625 [==============================] - 1s 1ms/step\n",
      "      |Fold0 |Fold1 |Fold2 |Fold3 |Fold4 |Avg  \n",
      "RMSE  |0.93  |0.927 |0.932 |0.926 |0.944 |0.932\n",
      "MAE   |0.731 |0.727 |0.733 |0.728 |0.741 |0.732\n",
      "Time  |1.102 |1.344 |0.941 |1.367 |1.114 |1.174\n"
     ]
    }
   ],
   "source": [
    "dnn_res = util.run_nn(data)\n",
    "util.display(dnn_res)"
   ]
  },
  {
   "cell_type": "code",
   "execution_count": 46,
   "metadata": {},
   "outputs": [
    {
     "name": "stdout",
     "output_type": "stream",
     "text": [
      "625/625 [==============================] - 1s 1ms/step\n",
      "625/625 [==============================] - 1s 1ms/step\n",
      "625/625 [==============================] - 1s 1ms/step\n",
      "625/625 [==============================] - 1s 1ms/step\n",
      "625/625 [==============================] - 2s 2ms/step\n",
      "625/625 [==============================] - 1s 2ms/step\n",
      "625/625 [==============================] - 1s 1ms/step\n",
      "625/625 [==============================] - 1s 1ms/step\n",
      "625/625 [==============================] - 1s 1ms/step\n",
      "625/625 [==============================] - 1s 1ms/step\n",
      "625/625 [==============================] - 1s 2ms/step\n",
      "625/625 [==============================] - 1s 1ms/step\n",
      "625/625 [==============================] - 1s 2ms/step\n",
      "625/625 [==============================] - 1s 2ms/step\n",
      "625/625 [==============================] - 1s 1ms/step\n",
      "625/625 [==============================] - 1s 1ms/step\n",
      "625/625 [==============================] - 1s 2ms/step\n",
      "625/625 [==============================] - 1s 2ms/step\n",
      "625/625 [==============================] - 1s 1ms/step\n",
      "625/625 [==============================] - 1s 1ms/step\n",
      "       |dense1 |dense2 |dense3 |dot   \n",
      "RMSE   |0.949  |0.937  |0.936  |0.967 \n",
      "MAE    |0.745  |0.736  |0.736  |0.76  \n",
      "Time   |1.499  |1.25   |2.831  |1.454 \n"
     ]
    }
   ],
   "source": [
    "folds = util.get_xy(data, full_tr)\n",
    "\n",
    "structures = ['dense1', 'dense2', 'dense3', 'dot']\n",
    "\n",
    "struct_hp_res = []\n",
    "cols = []\n",
    "for structure in structures:\n",
    "    cols.append(f\"{structure}\")\n",
    "    struct_hp_res.append(util.run_nn(data, structure=structure, lr=1e-3))\n",
    "util.display_all(struct_hp_res, cols=cols)"
   ]
  },
  {
   "cell_type": "code",
   "execution_count": 47,
   "metadata": {},
   "outputs": [
    {
     "name": "stdout",
     "output_type": "stream",
     "text": [
      "625/625 [==============================] - 1s 2ms/step\n",
      "625/625 [==============================] - 1s 2ms/step\n",
      "625/625 [==============================] - 1s 1ms/step\n",
      "625/625 [==============================] - 1s 1ms/step\n",
      "625/625 [==============================] - 2s 3ms/step\n",
      "625/625 [==============================] - 1s 2ms/step\n",
      "625/625 [==============================] - 1s 2ms/step\n",
      "625/625 [==============================] - 1s 2ms/step\n",
      "625/625 [==============================] - 1s 971us/step\n",
      "625/625 [==============================] - 1s 1ms/step\n",
      "625/625 [==============================] - 1s 1ms/step\n",
      "625/625 [==============================] - 1s 1ms/step\n",
      "625/625 [==============================] - 1s 1ms/step\n",
      "625/625 [==============================] - 1s 1ms/step\n",
      "625/625 [==============================] - 1s 935us/step\n",
      "625/625 [==============================] - 1s 1ms/step\n",
      "625/625 [==============================] - 1s 1ms/step\n",
      "625/625 [==============================] - 2s 2ms/step\n",
      "625/625 [==============================] - 1s 2ms/step\n",
      "625/625 [==============================] - 1s 2ms/step\n",
      "625/625 [==============================] - 1s 2ms/step\n",
      "625/625 [==============================] - 1s 2ms/step\n",
      "625/625 [==============================] - 1s 1ms/step\n",
      "625/625 [==============================] - 1s 2ms/step\n",
      "625/625 [==============================] - 1s 2ms/step\n",
      "       |0.0005 |0.001  |0.005  |0.01   |0.05  \n",
      "RMSE   |0.932  |0.934  |0.936  |0.935  |1.077 \n",
      "MAE    |0.732  |0.736  |0.735  |0.739  |0.824 \n",
      "Time   |1.734  |1.316  |1.01   |1.539  |1.483 \n"
     ]
    }
   ],
   "source": [
    "lrs = [.0005, .001, .005, .01, .05]\n",
    "\n",
    "lr_hp_res = []\n",
    "cols = []\n",
    "for lr in lrs:\n",
    "    cols.append(f\"{lr}\")\n",
    "    lr_hp_res.append(util.run_nn(data, structure='dense3', lr=lr))\n",
    "util.display_all(lr_hp_res, cols=cols)"
   ]
  },
  {
   "cell_type": "code",
   "execution_count": 45,
   "metadata": {},
   "outputs": [
    {
     "name": "stdout",
     "output_type": "stream",
     "text": [
      "RMSE |SVD  |KNN  |Rand |MF   |DNN  \n",
      "SVD  |     |0.412|1.206|0.379|0.343\n",
      "KNN  |0.412|     |1.18 |0.471|0.441\n",
      "Rand |1.206|1.18 |     |1.209|1.254\n",
      "MF   |0.379|0.471|1.209|     |0.456\n",
      "DNN  |0.343|0.441|1.254|0.456|     \n",
      "\n",
      "MAE  |SVD  |KNN  |Rand |MF   |DNN  \n",
      "SVD  |     |0.307|0.976|0.292|0.265\n",
      "KNN  |0.307|     |0.956|0.353|0.329\n",
      "Rand |0.976|0.956|     |0.979|1.012\n",
      "MF   |0.292|0.353|0.979|     |0.349\n",
      "DNN  |0.265|0.329|1.012|0.349|     \n"
     ]
    }
   ],
   "source": [
    "util.compare_all([\"SVD\", \"KNN\", \"Rand\", \"MF\", \"DNN\"], [res[0].preds for res in [svd_res, knn_res, rand_res, mf_res_5, dnn_res]])"
   ]
  }
 ],
 "metadata": {
  "kernelspec": {
   "display_name": "Python 3",
   "language": "python",
   "name": "python3"
  },
  "language_info": {
   "codemirror_mode": {
    "name": "ipython",
    "version": 3
   },
   "file_extension": ".py",
   "mimetype": "text/x-python",
   "name": "python",
   "nbconvert_exporter": "python",
   "pygments_lexer": "ipython3",
   "version": "3.9.13"
  },
  "orig_nbformat": 4
 },
 "nbformat": 4,
 "nbformat_minor": 2
}
