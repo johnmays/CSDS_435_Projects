{
 "cells": [
  {
   "cell_type": "code",
   "execution_count": 1,
   "metadata": {},
   "outputs": [],
   "source": [
    "# Reflect changes in the modules immediately.\n",
    "%load_ext autoreload\n",
    "%autoreload 2"
   ]
  },
  {
   "cell_type": "code",
   "execution_count": 2,
   "metadata": {},
   "outputs": [],
   "source": [
    "from surprise import Dataset\n",
    "import util\n",
    "\n",
    "data = Dataset.load_builtin('ml-100k')\n",
    "full_tr = data.build_full_trainset()"
   ]
  },
  {
   "cell_type": "code",
   "execution_count": 48,
   "metadata": {},
   "outputs": [
    {
     "name": "stdout",
     "output_type": "stream",
     "text": [
      "              |10,10,0.0025  |10,10,0.005   |10,10,0.01    |10,20,0.0025  |10,20,0.005   |10,20,0.01    |20,10,0.0025  |20,10,0.005   |20,10,0.01    |20,20,0.0025  |20,20,0.005   |20,20,0.01    |50,10,0.0025  |50,10,0.005   |50,10,0.01    |50,20,0.0025  |50,20,0.005   |50,20,0.01    |100,10,0.0025 |100,10,0.005  |100,10,0.01   |100,20,0.0025 |100,20,0.005  |100,20,0.01  \n",
      "RMSE          |0.954         |0.944         |0.936         |0.944         |0.936         |0.934         |0.954         |0.945         |0.935         |0.944         |0.935         |0.942         |0.956         |0.946         |0.933         |0.945         |0.932         |0.951         |0.958         |0.947         |0.935         |0.947         |0.936         |0.954        \n",
      "MAE           |0.757         |0.747         |0.739         |0.747         |0.739         |0.732         |0.757         |0.748         |0.738         |0.747         |0.737         |0.737         |0.759         |0.748         |0.736         |0.748         |0.735         |0.744         |0.76          |0.749         |0.736         |0.749         |0.737         |0.748        \n",
      "Time(s)       |0.351         |0.306         |0.299         |0.572         |0.456         |0.471         |0.283         |0.372         |0.476         |0.886         |1.127         |0.97          |0.684         |0.431         |0.435         |0.826         |0.698         |0.94          |0.563         |0.555         |0.679         |0.965         |1.124         |1.04         \n"
     ]
    }
   ],
   "source": [
    "from surprise import SVD\n",
    "\n",
    "n_factors = [10, 20, 50, 100]\n",
    "n_epochs = [10, 20]\n",
    "lr_all = [0.0025, 0.005, 0.01]\n",
    "\n",
    "svd_hp_res = []\n",
    "cols = []\n",
    "for n_factors_i in n_factors:\n",
    "    for n_epochs_i in n_epochs:\n",
    "        for lr_all_i in lr_all:\n",
    "            cols.append(f\"{n_factors_i},{n_epochs_i},{lr_all_i}\")\n",
    "            svd_hp_res.append(util.run(SVD(n_factors=n_factors_i, n_epochs=n_epochs_i, lr_all=lr_all_i), data))\n",
    "util.display_all(svd_hp_res, cols=cols)"
   ]
  },
  {
   "cell_type": "code",
   "execution_count": 46,
   "metadata": {},
   "outputs": [
    {
     "name": "stdout",
     "output_type": "stream",
     "text": [
      "        |Fold 0  |Fold 1  |Fold 2  |Fold 3  |Fold 4  |Avg    \n",
      "RMSE    |0.94    |0.931   |0.932   |0.933   |0.943   |0.936  \n",
      "MAE     |0.743   |0.733   |0.735   |0.734   |0.742   |0.737  \n",
      "Time(s) |1.065   |1.322   |1.077   |1.014   |1.02    |1.1    \n"
     ]
    }
   ],
   "source": [
    "svd = SVD()\n",
    "svd_res = util.run(svd, data)\n",
    "util.display(svd_res)"
   ]
  },
  {
   "cell_type": "code",
   "execution_count": 37,
   "metadata": {},
   "outputs": [
    {
     "name": "stdout",
     "output_type": "stream",
     "text": [
      "Computing the msd similarity matrix...\n",
      "Done computing similarity matrix.\n",
      "Computing the msd similarity matrix...\n",
      "Done computing similarity matrix.\n",
      "Computing the msd similarity matrix...\n",
      "Done computing similarity matrix.\n",
      "Computing the msd similarity matrix...\n",
      "Done computing similarity matrix.\n",
      "Computing the msd similarity matrix...\n",
      "Done computing similarity matrix.\n",
      "        |Fold 0  |Fold 1  |Fold 2  |Fold 3  |Fold 4  |Avg    \n",
      "RMSE    |0.978   |0.971   |0.977   |0.978   |0.985   |0.978  \n",
      "MAE     |0.773   |0.768   |0.771   |0.771   |0.778   |0.772  \n",
      "Time(s) |2.729   |2.702   |2.931   |2.742   |2.464   |2.714  \n"
     ]
    }
   ],
   "source": [
    "from surprise.prediction_algorithms.knns import KNNBasic\n",
    "\n",
    "knn = KNNBasic()\n",
    "knn_res = util.run(knn, data)\n",
    "util.display(knn_res)"
   ]
  },
  {
   "cell_type": "code",
   "execution_count": 35,
   "metadata": {},
   "outputs": [
    {
     "name": "stdout",
     "output_type": "stream",
     "text": [
      "        |Fold 0  |Fold 1  |Fold 2  |Fold 3  |Fold 4  |Avg    \n",
      "RMSE    |1.526   |1.524   |1.515   |1.514   |1.516   |1.519  \n",
      "MAE     |1.226   |1.224   |1.218   |1.218   |1.213   |1.22   \n",
      "Time(s) |0.153   |0.154   |0.337   |0.144   |0.149   |0.187  \n"
     ]
    }
   ],
   "source": [
    "from surprise.prediction_algorithms.random_pred import NormalPredictor\n",
    "\n",
    "rand = NormalPredictor()\n",
    "rand_res = util.run(rand, data)\n",
    "util.display(rand_res)"
   ]
  },
  {
   "cell_type": "code",
   "execution_count": 6,
   "metadata": {},
   "outputs": [
    {
     "name": "stdout",
     "output_type": "stream",
     "text": [
      "        |Fold 0  |Fold 1  |Fold 2  |Fold 3  |Fold 4  |Avg    \n",
      "RMSE    |1.45    |1.464   |1.478   |1.462   |1.467   |1.464  \n",
      "MAE     |1.188   |1.202   |1.213   |1.2     |1.205   |1.202  \n",
      "Time(s) |10.238  |10.536  |9.371   |8.881   |22.176  |12.24  \n"
     ]
    }
   ],
   "source": [
    "mf_res = util.run_mf(data, 5, steps=5)\n",
    "util.display(mf_res)"
   ]
  },
  {
   "cell_type": "code",
   "execution_count": 49,
   "metadata": {},
   "outputs": [
    {
     "name": "stdout",
     "output_type": "stream",
     "text": [
      "        |Fold 0  |Fold 1  |Fold 2  |Fold 3  |Fold 4  |Avg    \n",
      "RMSE    |1.197   |1.188   |1.183   |1.193   |1.194   |1.191  \n",
      "MAE     |0.957   |0.949   |0.946   |0.952   |0.954   |0.952  \n",
      "Time(s) |16.95   |17.822  |18.49   |18.558  |17.625  |17.889 \n"
     ]
    }
   ],
   "source": [
    "mf_res_2 = util.run_mf(data, 5, steps=10)\n",
    "util.display(mf_res_2)"
   ]
  },
  {
   "cell_type": "code",
   "execution_count": 50,
   "metadata": {},
   "outputs": [
    {
     "name": "stdout",
     "output_type": "stream",
     "text": [
      "        |Fold 0  |Fold 1  |Fold 2  |Fold 3  |Fold 4  |Avg    \n",
      "RMSE    |1.142   |1.134   |1.146   |1.141   |1.141   |1.141  \n",
      "MAE     |0.927   |0.92    |0.929   |0.922   |0.922   |0.924  \n",
      "Time(s) |13.857  |14.098  |14.326  |14.053  |13.989  |14.064 \n"
     ]
    }
   ],
   "source": [
    "mf_res_3 = util.run_mf(data, 10, steps=5)\n",
    "util.display(mf_res_3)"
   ]
  },
  {
   "cell_type": "code",
   "execution_count": 51,
   "metadata": {},
   "outputs": [
    {
     "name": "stdout",
     "output_type": "stream",
     "text": [
      "        |Fold 0  |Fold 1  |Fold 2  |Fold 3  |Fold 4  |Avg    \n",
      "RMSE    |1.043   |1.05    |1.048   |1.04    |1.054   |1.047  \n",
      "MAE     |0.835   |0.837   |0.836   |0.831   |0.842   |0.836  \n",
      "Time(s) |28.811  |28.328  |27.998  |27.151  |27.42   |27.942 \n"
     ]
    }
   ],
   "source": [
    "mf_res_4 = util.run_mf(data, 10, steps=10)\n",
    "util.display(mf_res_4)"
   ]
  },
  {
   "cell_type": "code",
   "execution_count": 10,
   "metadata": {},
   "outputs": [],
   "source": [
    "folds = util.get_xy(data, full_tr)"
   ]
  },
  {
   "cell_type": "code",
   "execution_count": 23,
   "metadata": {},
   "outputs": [
    {
     "name": "stdout",
     "output_type": "stream",
     "text": [
      "RMSE  |SVD   |KNN   |Rand  |MF   \n",
      "SVD   |      |0.405 |1.207 |1.147\n",
      "KNN   |0.405 |      |1.17  |1.146\n",
      "Rand  |1.207 |1.17  |      |1.533\n",
      "MF    |1.147 |1.146 |1.533 |     \n",
      "\n",
      "MAE   |SVD   |KNN   |Rand  |MF   \n",
      "SVD   |      |0.298 |0.978 |0.949\n",
      "KNN   |0.298 |      |0.95  |0.961\n",
      "Rand  |0.978 |0.95  |      |1.258\n",
      "MF    |0.949 |0.961 |1.258 |     \n"
     ]
    }
   ],
   "source": [
    "util.compare_all([\"SVD\", \"KNN\", \"Rand\", \"MF\"], [res[0].preds for res in [svd_res, knn_res, rand_res, mf_res]])"
   ]
  }
 ],
 "metadata": {
  "kernelspec": {
   "display_name": "Python 3",
   "language": "python",
   "name": "python3"
  },
  "language_info": {
   "codemirror_mode": {
    "name": "ipython",
    "version": 3
   },
   "file_extension": ".py",
   "mimetype": "text/x-python",
   "name": "python",
   "nbconvert_exporter": "python",
   "pygments_lexer": "ipython3",
   "version": "3.9.13"
  },
  "orig_nbformat": 4
 },
 "nbformat": 4,
 "nbformat_minor": 2
}
