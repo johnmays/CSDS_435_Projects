{
 "cells": [
  {
   "cell_type": "code",
   "execution_count": 1,
   "metadata": {},
   "outputs": [],
   "source": [
    "# Reflect changes in the modules immediately.\n",
    "%load_ext autoreload\n",
    "%autoreload 2"
   ]
  },
  {
   "cell_type": "code",
   "execution_count": 54,
   "metadata": {},
   "outputs": [],
   "source": [
    "from surprise import Dataset\n",
    "import util\n",
    "\n",
    "data = Dataset.load_builtin('ml-100k')\n",
    "full_tr = data.build_full_trainset()"
   ]
  },
  {
   "cell_type": "code",
   "execution_count": 89,
   "metadata": {},
   "outputs": [
    {
     "name": "stdout",
     "output_type": "stream",
     "text": [
      "        |Fold 0  |Fold 1  |Fold 2  |Fold 3  |Fold 4  |Avg    \n",
      "RMSE    |0.937   |0.931   |0.934   |0.931   |0.945   |0.936  \n",
      "MAE     |0.741   |0.734   |0.736   |0.733   |0.744   |0.737  \n",
      "Time(s) |1.031   |1.288   |0.985   |1.022   |1.016   |1.068  \n"
     ]
    }
   ],
   "source": [
    "from surprise import SVD\n",
    "\n",
    "svd = SVD()\n",
    "svd_res = util.run(svd, data)\n",
    "util.display(svd_res)"
   ]
  },
  {
   "cell_type": "code",
   "execution_count": 90,
   "metadata": {},
   "outputs": [
    {
     "name": "stdout",
     "output_type": "stream",
     "text": [
      "Computing the msd similarity matrix...\n",
      "Done computing similarity matrix.\n",
      "Computing the msd similarity matrix...\n",
      "Done computing similarity matrix.\n",
      "Computing the msd similarity matrix...\n",
      "Done computing similarity matrix.\n",
      "Computing the msd similarity matrix...\n",
      "Done computing similarity matrix.\n",
      "Computing the msd similarity matrix...\n",
      "Done computing similarity matrix.\n",
      "        |Fold 0  |Fold 1  |Fold 2  |Fold 3  |Fold 4  |Avg    \n",
      "RMSE    |0.978   |0.971   |0.977   |0.978   |0.985   |0.978  \n",
      "MAE     |0.773   |0.768   |0.771   |0.771   |0.778   |0.772  \n",
      "Time(s) |2.679   |2.473   |2.55    |2.656   |2.583   |2.588  \n"
     ]
    }
   ],
   "source": [
    "from surprise.prediction_algorithms.knns import KNNBasic\n",
    "\n",
    "knn = KNNBasic()\n",
    "knn_res = util.run(knn, data)\n",
    "util.display(knn_res)"
   ]
  },
  {
   "cell_type": "code",
   "execution_count": 91,
   "metadata": {},
   "outputs": [
    {
     "name": "stdout",
     "output_type": "stream",
     "text": [
      "        |Fold 0  |Fold 1  |Fold 2  |Fold 3  |Fold 4  |Avg    \n",
      "RMSE    |1.526   |1.518   |1.517   |1.527   |1.527   |1.523  \n",
      "MAE     |1.224   |1.219   |1.215   |1.228   |1.227   |1.223  \n",
      "Time(s) |0.155   |0.432   |0.156   |0.164   |0.158   |0.213  \n"
     ]
    }
   ],
   "source": [
    "from surprise.prediction_algorithms.random_pred import NormalPredictor\n",
    "\n",
    "rand = NormalPredictor()\n",
    "rand_res = util.run(rand, data)\n",
    "util.display(rand_res)"
   ]
  },
  {
   "cell_type": "code",
   "execution_count": 93,
   "metadata": {},
   "outputs": [
    {
     "name": "stdout",
     "output_type": "stream",
     "text": [
      "        |Fold 0  |Fold 1  |Fold 2  |Fold 3  |Fold 4  |Avg    \n",
      "RMSE    |1.455   |1.476   |1.475   |1.459   |1.468   |1.466  \n",
      "MAE     |1.191   |1.216   |1.213   |1.198   |1.205   |1.205  \n",
      "Time(s) |9.065   |9.337   |9.118   |9.3     |9.175   |9.199  \n"
     ]
    }
   ],
   "source": [
    "mf_res = util.run_mf(data, 5, steps=5)\n",
    "util.display(mf_res)"
   ]
  },
  {
   "cell_type": "code",
   "execution_count": null,
   "metadata": {},
   "outputs": [],
   "source": [
    "folds = util.get_xy(data, full_tr)"
   ]
  }
 ],
 "metadata": {
  "kernelspec": {
   "display_name": "Python 3",
   "language": "python",
   "name": "python3"
  },
  "language_info": {
   "codemirror_mode": {
    "name": "ipython",
    "version": 3
   },
   "file_extension": ".py",
   "mimetype": "text/x-python",
   "name": "python",
   "nbconvert_exporter": "python",
   "pygments_lexer": "ipython3",
   "version": "3.9.13"
  },
  "orig_nbformat": 4
 },
 "nbformat": 4,
 "nbformat_minor": 2
}
