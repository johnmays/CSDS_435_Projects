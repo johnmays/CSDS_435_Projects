{
 "cells": [
  {
   "cell_type": "code",
   "execution_count": 12,
   "metadata": {},
   "outputs": [
    {
     "name": "stdout",
     "output_type": "stream",
     "text": [
      "The autoreload extension is already loaded. To reload it, use:\n",
      "  %reload_ext autoreload\n"
     ]
    }
   ],
   "source": [
    "# Reflect changes in the modules immediately.\n",
    "%load_ext autoreload\n",
    "%autoreload 2"
   ]
  },
  {
   "cell_type": "code",
   "execution_count": 17,
   "metadata": {},
   "outputs": [],
   "source": [
    "from surprise import Dataset\n",
    "from surprise.model_selection import cross_validate\n",
    "\n",
    "data = Dataset.load_builtin('ml-100k')"
   ]
  },
  {
   "cell_type": "code",
   "execution_count": 18,
   "metadata": {},
   "outputs": [
    {
     "name": "stdout",
     "output_type": "stream",
     "text": [
      "Evaluating RMSE, MAE of algorithm SVD on 5 split(s).\n",
      "\n",
      "                  Fold 1  Fold 2  Fold 3  Fold 4  Fold 5  Mean    Std     \n",
      "RMSE (testset)    0.9440  0.9308  0.9284  0.9391  0.9368  0.9358  0.0057  \n",
      "MAE (testset)     0.7405  0.7354  0.7305  0.7418  0.7384  0.7373  0.0041  \n",
      "Fit time          0.92    0.92    1.02    1.10    1.11    1.01    0.08    \n",
      "Test time         0.11    0.16    0.09    0.19    0.12    0.13    0.04    \n"
     ]
    },
    {
     "data": {
      "text/plain": [
       "{'test_rmse': array([0.94403227, 0.93080431, 0.92835524, 0.9391081 , 0.93681157]),\n",
       " 'test_mae': array([0.74050312, 0.73541864, 0.73046113, 0.74181435, 0.73842982]),\n",
       " 'fit_time': (0.9206387996673584,\n",
       "  0.9163608551025391,\n",
       "  1.0171995162963867,\n",
       "  1.1018619537353516,\n",
       "  1.1116130352020264),\n",
       " 'test_time': (0.11042666435241699,\n",
       "  0.16318011283874512,\n",
       "  0.09267067909240723,\n",
       "  0.18606853485107422,\n",
       "  0.11611247062683105)}"
      ]
     },
     "execution_count": 18,
     "metadata": {},
     "output_type": "execute_result"
    }
   ],
   "source": [
    "from surprise import SVD\n",
    "\n",
    "svd = SVD()\n",
    "cross_validate(svd, data, measures=['RMSE', 'MAE'], cv=5, verbose=True)"
   ]
  },
  {
   "cell_type": "code",
   "execution_count": 19,
   "metadata": {},
   "outputs": [
    {
     "name": "stdout",
     "output_type": "stream",
     "text": [
      "Computing the msd similarity matrix...\n",
      "Done computing similarity matrix.\n",
      "Computing the msd similarity matrix...\n",
      "Done computing similarity matrix.\n",
      "Computing the msd similarity matrix...\n",
      "Done computing similarity matrix.\n",
      "Computing the msd similarity matrix...\n",
      "Done computing similarity matrix.\n",
      "Computing the msd similarity matrix...\n",
      "Done computing similarity matrix.\n",
      "Evaluating RMSE, MAE of algorithm KNNBasic on 5 split(s).\n",
      "\n",
      "                  Fold 1  Fold 2  Fold 3  Fold 4  Fold 5  Mean    Std     \n",
      "RMSE (testset)    0.9840  0.9836  0.9799  0.9722  0.9761  0.9792  0.0045  \n",
      "MAE (testset)     0.7782  0.7771  0.7713  0.7687  0.7703  0.7731  0.0038  \n",
      "Fit time          0.40    0.36    0.33    0.36    0.49    0.39    0.06    \n",
      "Test time         2.23    2.25    2.46    2.29    2.48    2.34    0.11    \n"
     ]
    },
    {
     "data": {
      "text/plain": [
       "{'test_rmse': array([0.984001  , 0.98359536, 0.97986677, 0.97224237, 0.97605962]),\n",
       " 'test_mae': array([0.77821374, 0.77705871, 0.77130001, 0.7686763 , 0.77027536]),\n",
       " 'fit_time': (0.4038505554199219,\n",
       "  0.36109161376953125,\n",
       "  0.3345940113067627,\n",
       "  0.3565242290496826,\n",
       "  0.4949934482574463),\n",
       " 'test_time': (2.2293665409088135,\n",
       "  2.2529594898223877,\n",
       "  2.462594747543335,\n",
       "  2.292400360107422,\n",
       "  2.4824037551879883)}"
      ]
     },
     "execution_count": 19,
     "metadata": {},
     "output_type": "execute_result"
    }
   ],
   "source": [
    "from surprise.prediction_algorithms.knns import KNNBasic\n",
    "\n",
    "knn = KNNBasic()\n",
    "cross_validate(knn, data, measures=['RMSE', 'MAE'], cv=5, verbose=True)"
   ]
  },
  {
   "cell_type": "code",
   "execution_count": 21,
   "metadata": {},
   "outputs": [
    {
     "name": "stdout",
     "output_type": "stream",
     "text": [
      "Evaluating RMSE, MAE of algorithm NormalPredictor on 5 split(s).\n",
      "\n",
      "                  Fold 1  Fold 2  Fold 3  Fold 4  Fold 5  Mean    Std     \n",
      "RMSE (testset)    1.5178  1.5258  1.5392  1.5220  1.5232  1.5256  0.0073  \n",
      "MAE (testset)     1.2171  1.2253  1.2370  1.2193  1.2248  1.2247  0.0069  \n",
      "Fit time          0.07    0.07    0.08    0.09    0.08    0.08    0.01    \n",
      "Test time         0.06    0.13    0.06    0.13    0.06    0.09    0.04    \n"
     ]
    },
    {
     "data": {
      "text/plain": [
       "{'test_rmse': array([1.51775647, 1.52576661, 1.5391694 , 1.52195998, 1.52315131]),\n",
       " 'test_mae': array([1.2170953 , 1.22531153, 1.23703245, 1.21931397, 1.22483482]),\n",
       " 'fit_time': (0.07148289680480957,\n",
       "  0.07394218444824219,\n",
       "  0.07588744163513184,\n",
       "  0.09146690368652344,\n",
       "  0.07930612564086914),\n",
       " 'test_time': (0.05634927749633789,\n",
       "  0.13343548774719238,\n",
       "  0.061326026916503906,\n",
       "  0.13265585899353027,\n",
       "  0.0578763484954834)}"
      ]
     },
     "execution_count": 21,
     "metadata": {},
     "output_type": "execute_result"
    }
   ],
   "source": [
    "from surprise.prediction_algorithms.random_pred import NormalPredictor\n",
    "\n",
    "rand = NormalPredictor()\n",
    "cross_validate(rand, data, measures=['RMSE', 'MAE'], cv=5, verbose=True)"
   ]
  }
 ],
 "metadata": {
  "kernelspec": {
   "display_name": "Python 3",
   "language": "python",
   "name": "python3"
  },
  "language_info": {
   "codemirror_mode": {
    "name": "ipython",
    "version": 3
   },
   "file_extension": ".py",
   "mimetype": "text/x-python",
   "name": "python",
   "nbconvert_exporter": "python",
   "pygments_lexer": "ipython3",
   "version": "3.9.13"
  },
  "orig_nbformat": 4
 },
 "nbformat": 4,
 "nbformat_minor": 2
}
