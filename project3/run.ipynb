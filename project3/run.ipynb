{
 "cells": [
  {
   "cell_type": "code",
   "execution_count": 1,
   "metadata": {},
   "outputs": [],
   "source": [
    "# Reflect changes in the modules immediately.\n",
    "%load_ext autoreload\n",
    "%autoreload 2"
   ]
  },
  {
   "cell_type": "code",
   "execution_count": 2,
   "metadata": {},
   "outputs": [],
   "source": [
    "from surprise import Dataset\n",
    "import util\n",
    "\n",
    "data = Dataset.load_builtin('ml-100k')\n",
    "full_tr = data.build_full_trainset()"
   ]
  },
  {
   "cell_type": "code",
   "execution_count": 3,
   "metadata": {},
   "outputs": [
    {
     "name": "stdout",
     "output_type": "stream",
     "text": [
      "        |Fold 0  |Fold 1  |Fold 2  |Fold 3  |Fold 4  |Avg    \n",
      "RMSE    |0.936   |0.928   |0.929   |0.937   |0.944   |0.935  \n",
      "MAE     |0.739   |0.731   |0.733   |0.736   |0.742   |0.736  \n",
      "Time(s) |1.523   |1.636   |1.727   |2.259   |2.027   |1.834  \n"
     ]
    }
   ],
   "source": [
    "from surprise import SVD\n",
    "\n",
    "svd = SVD()\n",
    "svd_res = util.run(svd, data)\n",
    "util.display(svd_res)"
   ]
  },
  {
   "cell_type": "code",
   "execution_count": 4,
   "metadata": {},
   "outputs": [
    {
     "name": "stdout",
     "output_type": "stream",
     "text": [
      "Computing the msd similarity matrix...\n",
      "Done computing similarity matrix.\n",
      "Computing the msd similarity matrix...\n",
      "Done computing similarity matrix.\n",
      "Computing the msd similarity matrix...\n",
      "Done computing similarity matrix.\n",
      "Computing the msd similarity matrix...\n",
      "Done computing similarity matrix.\n",
      "Computing the msd similarity matrix...\n",
      "Done computing similarity matrix.\n",
      "        |Fold 0  |Fold 1  |Fold 2  |Fold 3  |Fold 4  |Avg    \n",
      "RMSE    |0.978   |0.971   |0.977   |0.978   |0.985   |0.978  \n",
      "MAE     |0.773   |0.768   |0.771   |0.771   |0.778   |0.772  \n",
      "Time(s) |3.846   |2.441   |2.467   |2.459   |2.881   |2.819  \n"
     ]
    }
   ],
   "source": [
    "from surprise.prediction_algorithms.knns import KNNBasic\n",
    "\n",
    "knn = KNNBasic()\n",
    "knn_res = util.run(knn, data)\n",
    "util.display(knn_res)"
   ]
  },
  {
   "cell_type": "code",
   "execution_count": 5,
   "metadata": {},
   "outputs": [
    {
     "name": "stdout",
     "output_type": "stream",
     "text": [
      "        |Fold 0  |Fold 1  |Fold 2  |Fold 3  |Fold 4  |Avg    \n",
      "RMSE    |1.514   |1.517   |1.514   |1.515   |1.516   |1.515  \n",
      "MAE     |1.215   |1.214   |1.218   |1.214   |1.217   |1.216  \n",
      "Time(s) |0.157   |0.151   |0.149   |0.162   |0.145   |0.153  \n"
     ]
    }
   ],
   "source": [
    "from surprise.prediction_algorithms.random_pred import NormalPredictor\n",
    "\n",
    "rand = NormalPredictor()\n",
    "rand_res = util.run(rand, data)\n",
    "util.display(rand_res)"
   ]
  },
  {
   "cell_type": "code",
   "execution_count": 6,
   "metadata": {},
   "outputs": [
    {
     "name": "stdout",
     "output_type": "stream",
     "text": [
      "        |Fold 0  |Fold 1  |Fold 2  |Fold 3  |Fold 4  |Avg    \n",
      "RMSE    |1.45    |1.464   |1.478   |1.462   |1.467   |1.464  \n",
      "MAE     |1.188   |1.202   |1.213   |1.2     |1.205   |1.202  \n",
      "Time(s) |10.238  |10.536  |9.371   |8.881   |22.176  |12.24  \n"
     ]
    }
   ],
   "source": [
    "mf_res = util.run_mf(data, 5, steps=5)\n",
    "util.display(mf_res)"
   ]
  },
  {
   "cell_type": "code",
   "execution_count": 10,
   "metadata": {},
   "outputs": [],
   "source": [
    "folds = util.get_xy(data, full_tr)"
   ]
  },
  {
   "cell_type": "code",
   "execution_count": 23,
   "metadata": {},
   "outputs": [
    {
     "name": "stdout",
     "output_type": "stream",
     "text": [
      "RMSE  |SVD   |KNN   |Rand  |MF   \n",
      "SVD   |      |0.405 |1.207 |1.147\n",
      "KNN   |0.405 |      |1.17  |1.146\n",
      "Rand  |1.207 |1.17  |      |1.533\n",
      "MF    |1.147 |1.146 |1.533 |     \n",
      "\n",
      "MAE   |SVD   |KNN   |Rand  |MF   \n",
      "SVD   |      |0.298 |0.978 |0.949\n",
      "KNN   |0.298 |      |0.95  |0.961\n",
      "Rand  |0.978 |0.95  |      |1.258\n",
      "MF    |0.949 |0.961 |1.258 |     \n"
     ]
    }
   ],
   "source": [
    "util.compare_all([\"SVD\", \"KNN\", \"Rand\", \"MF\"], [res[0].preds for res in [svd_res, knn_res, rand_res, mf_res]])"
   ]
  }
 ],
 "metadata": {
  "kernelspec": {
   "display_name": "Python 3",
   "language": "python",
   "name": "python3"
  },
  "language_info": {
   "codemirror_mode": {
    "name": "ipython",
    "version": 3
   },
   "file_extension": ".py",
   "mimetype": "text/x-python",
   "name": "python",
   "nbconvert_exporter": "python",
   "pygments_lexer": "ipython3",
   "version": "3.9.13"
  },
  "orig_nbformat": 4
 },
 "nbformat": 4,
 "nbformat_minor": 2
}
