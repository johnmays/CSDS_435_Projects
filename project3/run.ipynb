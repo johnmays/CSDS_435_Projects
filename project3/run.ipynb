{
 "cells": [
  {
   "cell_type": "code",
   "execution_count": 1,
   "metadata": {},
   "outputs": [],
   "source": [
    "# Reflect changes in the modules immediately.\n",
    "%load_ext autoreload\n",
    "%autoreload 2"
   ]
  },
  {
   "cell_type": "code",
   "execution_count": 20,
   "metadata": {},
   "outputs": [],
   "source": [
    "from surprise import Dataset\n",
    "import util\n",
    "\n",
    "data = Dataset.load_builtin('ml-100k')\n",
    "full_tr = data.build_full_trainset()"
   ]
  },
  {
   "cell_type": "code",
   "execution_count": 31,
   "metadata": {},
   "outputs": [
    {
     "name": "stdout",
     "output_type": "stream",
     "text": [
      "       |Fold 0 |Fold 1 |Fold 2 |Fold 3 |Fold 4\n",
      "RMSE   |0.94   |0.93   |0.932  |0.934  |0.943 \n",
      "MAE    |0.742  |0.731  |0.736  |0.737  |0.742 \n"
     ]
    }
   ],
   "source": [
    "from surprise import SVD\n",
    "\n",
    "svd = SVD()\n",
    "svd_res = util.run(svd, data)\n",
    "util.display(svd_res)"
   ]
  },
  {
   "cell_type": "code",
   "execution_count": 32,
   "metadata": {},
   "outputs": [
    {
     "name": "stdout",
     "output_type": "stream",
     "text": [
      "Computing the msd similarity matrix...\n",
      "Done computing similarity matrix.\n",
      "Computing the msd similarity matrix...\n",
      "Done computing similarity matrix.\n",
      "Computing the msd similarity matrix...\n",
      "Done computing similarity matrix.\n",
      "Computing the msd similarity matrix...\n",
      "Done computing similarity matrix.\n",
      "Computing the msd similarity matrix...\n",
      "Done computing similarity matrix.\n",
      "       |Fold 0 |Fold 1 |Fold 2 |Fold 3 |Fold 4\n",
      "RMSE   |0.978  |0.971  |0.977  |0.978  |0.985 \n",
      "MAE    |0.773  |0.768  |0.771  |0.771  |0.778 \n"
     ]
    }
   ],
   "source": [
    "from surprise.prediction_algorithms.knns import KNNBasic\n",
    "\n",
    "knn = KNNBasic()\n",
    "knn_res = util.run(knn, data)\n",
    "util.display(knn_res)"
   ]
  },
  {
   "cell_type": "code",
   "execution_count": 33,
   "metadata": {},
   "outputs": [
    {
     "name": "stdout",
     "output_type": "stream",
     "text": [
      "       |Fold 0 |Fold 1 |Fold 2 |Fold 3 |Fold 4\n",
      "RMSE   |1.527  |1.53   |1.509  |1.531  |1.51  \n",
      "MAE    |1.226  |1.23   |1.211  |1.231  |1.208 \n"
     ]
    }
   ],
   "source": [
    "from surprise.prediction_algorithms.random_pred import NormalPredictor\n",
    "\n",
    "rand = NormalPredictor()\n",
    "rand_res = util.run(rand, data)\n",
    "util.display(rand_res)"
   ]
  },
  {
   "cell_type": "code",
   "execution_count": 44,
   "metadata": {},
   "outputs": [
    {
     "name": "stdout",
     "output_type": "stream",
     "text": [
      "       |Fold 0 |Fold 1 |Fold 2 |Fold 3 |Fold 4\n",
      "RMSE   |1.468  |1.473  |1.465  |1.46   |1.464 \n",
      "MAE    |1.203  |1.21   |1.204  |1.196  |1.196 \n"
     ]
    }
   ],
   "source": [
    "mf_res = util.run_mf(data, 5, steps=5)\n",
    "util.display(mf_res)"
   ]
  }
 ],
 "metadata": {
  "kernelspec": {
   "display_name": "Python 3",
   "language": "python",
   "name": "python3"
  },
  "language_info": {
   "codemirror_mode": {
    "name": "ipython",
    "version": 3
   },
   "file_extension": ".py",
   "mimetype": "text/x-python",
   "name": "python",
   "nbconvert_exporter": "python",
   "pygments_lexer": "ipython3",
   "version": "3.9.13"
  },
  "orig_nbformat": 4
 },
 "nbformat": 4,
 "nbformat_minor": 2
}
