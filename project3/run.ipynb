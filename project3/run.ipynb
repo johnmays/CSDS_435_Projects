{
 "cells": [
  {
   "cell_type": "code",
   "execution_count": 2,
   "metadata": {},
   "outputs": [],
   "source": [
    "# Reflect changes in the modules immediately.\n",
    "%load_ext autoreload\n",
    "%autoreload 2"
   ]
  },
  {
   "cell_type": "code",
   "execution_count": 20,
   "metadata": {},
   "outputs": [],
   "source": [
    "from surprise import Dataset\n",
    "import util\n",
    "\n",
    "data = Dataset.load_builtin('ml-100k')"
   ]
  },
  {
   "cell_type": "code",
   "execution_count": 27,
   "metadata": {},
   "outputs": [
    {
     "name": "stdout",
     "output_type": "stream",
     "text": [
      "       |Fold 0 |Fold 1 |Fold 2 |Fold 3 |Fold 4\n",
      "RMSE   |0.936  |0.932  |0.932  |0.934  |0.945 \n",
      "MAE    |0.739  |0.733  |0.735  |0.734  |0.745 \n"
     ]
    }
   ],
   "source": [
    "from surprise import SVD\n",
    "\n",
    "svd = SVD()\n",
    "svd_res = util.run(svd, data)\n",
    "util.display(svd_res)"
   ]
  },
  {
   "cell_type": "code",
   "execution_count": 28,
   "metadata": {},
   "outputs": [
    {
     "name": "stdout",
     "output_type": "stream",
     "text": [
      "Computing the msd similarity matrix...\n",
      "Done computing similarity matrix.\n",
      "Computing the msd similarity matrix...\n",
      "Done computing similarity matrix.\n",
      "Computing the msd similarity matrix...\n",
      "Done computing similarity matrix.\n",
      "Computing the msd similarity matrix...\n",
      "Done computing similarity matrix.\n",
      "Computing the msd similarity matrix...\n",
      "Done computing similarity matrix.\n",
      "       |Fold 0 |Fold 1 |Fold 2 |Fold 3 |Fold 4\n",
      "RMSE   |0.978  |0.971  |0.977  |0.978  |0.985 \n",
      "MAE    |0.773  |0.768  |0.771  |0.771  |0.778 \n"
     ]
    }
   ],
   "source": [
    "from surprise.prediction_algorithms.knns import KNNBasic\n",
    "\n",
    "knn = KNNBasic()\n",
    "knn_res = util.run(knn, data)\n",
    "util.display(knn_res)"
   ]
  },
  {
   "cell_type": "code",
   "execution_count": 29,
   "metadata": {},
   "outputs": [
    {
     "name": "stdout",
     "output_type": "stream",
     "text": [
      "       |Fold 0 |Fold 1 |Fold 2 |Fold 3 |Fold 4\n",
      "RMSE   |1.515  |1.519  |1.517  |1.519  |1.515 \n",
      "MAE    |1.217  |1.218  |1.218  |1.218  |1.218 \n"
     ]
    }
   ],
   "source": [
    "from surprise.prediction_algorithms.random_pred import NormalPredictor\n",
    "\n",
    "rand = NormalPredictor()\n",
    "rand_res = util.run(rand, data)\n",
    "util.display(rand_res)"
   ]
  },
  {
   "cell_type": "code",
   "execution_count": 43,
   "metadata": {},
   "outputs": [],
   "source": [
    "from matrix_factorization import matrix_factorization\n",
    "import numpy as np\n",
    "\n",
    "K = 10\n",
    "Rs = util.get_fold_matrices(data)\n",
    "Ps = [np.random.rand(len(R), K) for R in Rs]\n",
    "Qs = [np.random.rand(len(R[0]), K) for R in Rs]\n",
    "\n",
    "for i in range(len(Rs)):\n",
    "    Ps[i], Qs[i] = matrix_factorization(Rs[i], Ps[i], Qs[i], K, steps=10)"
   ]
  }
 ],
 "metadata": {
  "kernelspec": {
   "display_name": "Python 3",
   "language": "python",
   "name": "python3"
  },
  "language_info": {
   "codemirror_mode": {
    "name": "ipython",
    "version": 3
   },
   "file_extension": ".py",
   "mimetype": "text/x-python",
   "name": "python",
   "nbconvert_exporter": "python",
   "pygments_lexer": "ipython3",
   "version": "3.9.13"
  },
  "orig_nbformat": 4
 },
 "nbformat": 4,
 "nbformat_minor": 2
}
