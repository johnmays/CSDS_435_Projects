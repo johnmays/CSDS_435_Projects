{
 "cells": [
  {
   "cell_type": "code",
   "execution_count": 1,
   "metadata": {},
   "outputs": [
    {
     "name": "stderr",
     "output_type": "stream",
     "text": [
      "2023-04-30 21:08:22.602122: I tensorflow/core/platform/cpu_feature_guard.cc:182] This TensorFlow binary is optimized to use available CPU instructions in performance-critical operations.\n",
      "To enable the following instructions: AVX2 AVX512F AVX512_VNNI FMA, in other operations, rebuild TensorFlow with the appropriate compiler flags.\n"
     ]
    }
   ],
   "source": [
    "import numpy as np\n",
    "import surprise\n",
    "from util import *"
   ]
  },
  {
   "cell_type": "code",
   "execution_count": 2,
   "metadata": {},
   "outputs": [],
   "source": [
    "data = surprise.Dataset.load_builtin('ml-100k')"
   ]
  },
  {
   "cell_type": "code",
   "execution_count": 14,
   "metadata": {},
   "outputs": [
    {
     "name": "stdout",
     "output_type": "stream",
     "text": [
      "Epoch 1/5\n",
      "1250/1250 [==============================] - 2s 2ms/step - loss: 1.0835\n",
      "Epoch 2/5\n",
      "1250/1250 [==============================] - 2s 2ms/step - loss: 1.0081\n",
      "Epoch 3/5\n",
      "1250/1250 [==============================] - 2s 1ms/step - loss: 1.0381\n",
      "Epoch 4/5\n",
      "1250/1250 [==============================] - 2s 2ms/step - loss: 1.0485\n",
      "Epoch 5/5\n",
      "1250/1250 [==============================] - 2s 2ms/step - loss: 1.0754\n",
      "625/625 [==============================] - 1s 718us/step\n",
      "Epoch 1/5\n",
      "1250/1250 [==============================] - 2s 2ms/step - loss: 1.0781\n",
      "Epoch 2/5\n",
      "1250/1250 [==============================] - 2s 2ms/step - loss: 1.0506\n",
      "Epoch 3/5\n",
      "1250/1250 [==============================] - 2s 1ms/step - loss: 1.1147\n",
      "Epoch 4/5\n",
      "1250/1250 [==============================] - 2s 2ms/step - loss: 1.1445\n",
      "Epoch 5/5\n",
      "1250/1250 [==============================] - 2s 2ms/step - loss: 1.1885\n",
      "625/625 [==============================] - 1s 865us/step\n",
      "Epoch 1/5\n",
      "1250/1250 [==============================] - 2s 2ms/step - loss: 1.0696\n",
      "Epoch 2/5\n",
      "1250/1250 [==============================] - 2s 2ms/step - loss: 1.0456\n",
      "Epoch 3/5\n",
      "1250/1250 [==============================] - 2s 1ms/step - loss: 1.0069\n",
      "Epoch 4/5\n",
      "1250/1250 [==============================] - 2s 1ms/step - loss: 1.0313\n",
      "Epoch 5/5\n",
      "1250/1250 [==============================] - 2s 1ms/step - loss: 1.0513\n",
      "625/625 [==============================] - 1s 801us/step\n",
      "Epoch 1/5\n",
      "1250/1250 [==============================] - 2s 2ms/step - loss: 1.0680\n",
      "Epoch 2/5\n",
      "1250/1250 [==============================] - 2s 1ms/step - loss: 1.0972\n",
      "Epoch 3/5\n",
      "1250/1250 [==============================] - 2s 2ms/step - loss: 1.1515\n",
      "Epoch 4/5\n",
      "1250/1250 [==============================] - 2s 1ms/step - loss: 1.1345\n",
      "Epoch 5/5\n",
      "1250/1250 [==============================] - 2s 1ms/step - loss: 1.1512\n",
      "625/625 [==============================] - 1s 799us/step\n",
      "Epoch 1/5\n",
      "1250/1250 [==============================] - 2s 2ms/step - loss: 1.0780\n",
      "Epoch 2/5\n",
      "1250/1250 [==============================] - 2s 2ms/step - loss: 0.9999\n",
      "Epoch 3/5\n",
      "1250/1250 [==============================] - 2s 2ms/step - loss: 1.0283\n",
      "Epoch 4/5\n",
      "1250/1250 [==============================] - 2s 2ms/step - loss: 1.0428\n",
      "Epoch 5/5\n",
      "1250/1250 [==============================] - 2s 2ms/step - loss: 1.0897\n",
      "625/625 [==============================] - 1s 847us/step\n"
     ]
    }
   ],
   "source": [
    "results = run_nn(data, structure='dense3', lr=.05)"
   ]
  },
  {
   "cell_type": "code",
   "execution_count": 15,
   "metadata": {},
   "outputs": [
    {
     "name": "stdout",
     "output_type": "stream",
     "text": [
      "        |Fold 0  |Fold 1  |Fold 2  |Fold 3  |Fold 4  |Avg    \n",
      "RMSE    |1.096   |1.08    |1.067   |1.067   |1.115   |1.085  \n",
      "MAE     |0.84    |0.813   |0.819   |0.832   |0.846   |0.83   \n",
      "Time(s) |0.695   |1.009   |0.765   |0.753   |0.811   |0.807  \n"
     ]
    }
   ],
   "source": [
    "display(results)"
   ]
  },
  {
   "cell_type": "code",
   "execution_count": 16,
   "metadata": {},
   "outputs": [
    {
     "name": "stdout",
     "output_type": "stream",
     "text": [
      "        |foo    \n",
      "RMSE    |1.085  \n",
      "MAE     |0.83   \n",
      "Time(s) |0.807  \n"
     ]
    }
   ],
   "source": [
    "display_all([results], cols=['foo'])"
   ]
  },
  {
   "cell_type": "code",
   "execution_count": null,
   "metadata": {},
   "outputs": [],
   "source": []
  }
 ],
 "metadata": {
  "kernelspec": {
   "display_name": "venv",
   "language": "python",
   "name": "python3"
  },
  "language_info": {
   "codemirror_mode": {
    "name": "ipython",
    "version": 3
   },
   "file_extension": ".py",
   "mimetype": "text/x-python",
   "name": "python",
   "nbconvert_exporter": "python",
   "pygments_lexer": "ipython3",
   "version": "3.9.13"
  },
  "orig_nbformat": 4
 },
 "nbformat": 4,
 "nbformat_minor": 2
}
