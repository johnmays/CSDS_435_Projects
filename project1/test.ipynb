{
 "cells": [
  {
   "cell_type": "code",
   "execution_count": 1,
   "metadata": {},
   "outputs": [],
   "source": [
    "from util import *\n",
    "import numpy as np"
   ]
  },
  {
   "cell_type": "code",
   "execution_count": 2,
   "metadata": {},
   "outputs": [],
   "source": [
    "from feedforward import FeedForwardNN"
   ]
  },
  {
   "cell_type": "code",
   "execution_count": 3,
   "metadata": {},
   "outputs": [
    {
     "name": "stdout",
     "output_type": "stream",
     "text": [
      "Importing data...\n",
      "Size of dataset: 21000 examples with 784 attributes.\n",
      "Training set: True\n"
     ]
    }
   ],
   "source": [
    "X, y = load_data('../data/training.csv')"
   ]
  },
  {
   "cell_type": "code",
   "execution_count": 4,
   "metadata": {},
   "outputs": [],
   "source": [
    "# X_test_dataset = load_data('../data/testing.csv')"
   ]
  },
  {
   "cell_type": "code",
   "execution_count": 5,
   "metadata": {},
   "outputs": [],
   "source": [
    "def cross_validation_split(X, y, folds=5):\n",
    "    if type(X) is not np.ndarray or type(y) is not np.ndarray:\n",
    "        raise TypeError('X and y should be numpy arrays')\n",
    "    num_examples = np.size(y)\n",
    "    if type(folds) is not int or folds > num_examples or folds < 1:\n",
    "        raise TypeError('folds should be a positive integer <= sample size')\n",
    "    rand_indices = list(range(num_examples))\n",
    "    np.random.shuffle(rand_indices)\n",
    "    X_shuffled = X[rand_indices]\n",
    "    y_shuffled = y[rand_indices]\n",
    "\n",
    "    data = () # in form ((X_train,y_train,X_test,y_test),(X_...)...)\n",
    "    for fold in (range(folds)):\n",
    "        i = int((fold/folds)*num_examples)\n",
    "        j = int(((fold+1)/folds)*num_examples)\n",
    "        X_train = np.concatenate((X[0:i],X[j:]))\n",
    "        y_train = np.concatenate((y[0:i],y[j:]))\n",
    "        X_test = X[i:j]\n",
    "        y_test = y[i:j]\n",
    "        data += ((X_train, y_train, X_test, y_test),)\n",
    "    return data"
   ]
  },
  {
   "cell_type": "code",
   "execution_count": 6,
   "metadata": {},
   "outputs": [],
   "source": [
    "data = cross_validation_split(X,y)"
   ]
  },
  {
   "cell_type": "code",
   "execution_count": 7,
   "metadata": {},
   "outputs": [],
   "source": [
    "X_train, y_train, X_test, y_test = data[0]"
   ]
  },
  {
   "cell_type": "code",
   "execution_count": 8,
   "metadata": {},
   "outputs": [
    {
     "name": "stdout",
     "output_type": "stream",
     "text": [
      "Fitting Feed Forward Net...\n",
      "Finished!\n"
     ]
    }
   ],
   "source": [
    "ffnn = FeedForwardNN()\n",
    "ffnn.train(X_train, y_train)"
   ]
  },
  {
   "cell_type": "code",
   "execution_count": 9,
   "metadata": {},
   "outputs": [],
   "source": [
    "y_test_hat = ffnn.infer(X_test)"
   ]
  },
  {
   "cell_type": "code",
   "execution_count": 10,
   "metadata": {},
   "outputs": [
    {
     "data": {
      "text/plain": [
       "0.8578571428571429"
      ]
     },
     "execution_count": 10,
     "metadata": {},
     "output_type": "execute_result"
    }
   ],
   "source": [
    "accuracy(y_test_hat,y_test)"
   ]
  },
  {
   "cell_type": "code",
   "execution_count": 11,
   "metadata": {},
   "outputs": [],
   "source": [
    "y_train_hat = ffnn.infer(X_train)"
   ]
  },
  {
   "cell_type": "code",
   "execution_count": 12,
   "metadata": {},
   "outputs": [
    {
     "data": {
      "text/plain": [
       "0.9252380952380952"
      ]
     },
     "execution_count": 12,
     "metadata": {},
     "output_type": "execute_result"
    }
   ],
   "source": [
    "accuracy(y_train_hat,y_train)"
   ]
  }
 ],
 "metadata": {
  "kernelspec": {
   "display_name": "tf",
   "language": "python",
   "name": "python3"
  },
  "language_info": {
   "codemirror_mode": {
    "name": "ipython",
    "version": 3
   },
   "file_extension": ".py",
   "mimetype": "text/x-python",
   "name": "python",
   "nbconvert_exporter": "python",
   "pygments_lexer": "ipython3",
   "version": "3.7.13"
  },
  "orig_nbformat": 4,
  "vscode": {
   "interpreter": {
    "hash": "dc1b947dce198ff7f2d2cb152b2cbb61132fce4429fa808fd5b89ac4d7df39fa"
   }
  }
 },
 "nbformat": 4,
 "nbformat_minor": 2
}
